{
  "nbformat": 4,
  "nbformat_minor": 0,
  "metadata": {
    "colab": {
      "name": "real-nvp",
      "provenance": [],
      "authorship_tag": "ABX9TyMZqvv7uYU06cm65Xl6yqkC",
      "include_colab_link": true
    },
    "kernelspec": {
      "name": "python3",
      "display_name": "Python 3"
    },
    "accelerator": "GPU"
  },
  "cells": [
    {
      "cell_type": "markdown",
      "metadata": {
        "id": "view-in-github",
        "colab_type": "text"
      },
      "source": [
        "<a href=\"https://colab.research.google.com/github/MaryDongsn/DL_RL/blob/master/real_nvp.ipynb\" target=\"_parent\"><img src=\"https://colab.research.google.com/assets/colab-badge.svg\" alt=\"Open In Colab\"/></a>"
      ]
    },
    {
      "cell_type": "markdown",
      "metadata": {
        "id": "SMEFMBY-_R9Z"
      },
      "source": [
        "Copyright: https://github.com/MokkeMeguru/glow-realnvp-tutorial/blob/master/examples/jupyter_notebooks/RealNVP_mnist.ipynb"
      ]
    },
    {
      "cell_type": "code",
      "metadata": {
        "id": "ifSrq3S_0npd",
        "outputId": "318ab38a-29e9-4f58-92fd-9d93cb255e20",
        "colab": {
          "base_uri": "https://localhost:8080/"
        }
      },
      "source": [
        "import numpy as np\n",
        "import matplotlib.pyplot as plt\n",
        "import tensorflow as tf\n",
        "import tensorflow_probability as tfp\n",
        "\n",
        "tfd = tfp.distributions\n",
        "tfb = tfp.bijectors\n",
        "\n",
        "print('tensorflow: ', tf.__version__)\n",
        "print('tensorflow-probability: ', tfp.__version__)"
      ],
      "execution_count": 1,
      "outputs": [
        {
          "output_type": "stream",
          "text": [
            "tensorflow:  2.3.0\n",
            "tensorflow-probability:  0.11.0\n"
          ],
          "name": "stdout"
        }
      ]
    },
    {
      "cell_type": "code",
      "metadata": {
        "id": "hUAMORMS0tjj",
        "outputId": "fe6bedf5-a970-4419-c575-05220760616f",
        "colab": {
          "base_uri": "https://localhost:8080/"
        }
      },
      "source": [
        "\n",
        "# use Tensorflow's distribution\n",
        "z = tf.random.normal([2, 2, 256])\n",
        "print('Tensorflow             : shape: {} mean: {:.6f} sd: {:.6f}'.format(z.shape, tf.math.reduce_mean(z), tf.math.reduce_std(z)))\n",
        "# use Tensorflow Probability's distribution\n",
        "target_dist = tfd.Normal(loc=0., scale=1.)\n",
        "z = target_dist.sample([2, 2, 256])\n",
        "print('Tensorflow Probability : shape: {} mean: {:.6f} sd: {:.6f}'.format(z.shape, tf.math.reduce_mean(z), tf.math.reduce_std(z)))"
      ],
      "execution_count": 2,
      "outputs": [
        {
          "output_type": "stream",
          "text": [
            "Tensorflow             : shape: (2, 2, 256) mean: -0.021814 sd: 0.996634\n",
            "Tensorflow Probability : shape: (2, 2, 256) mean: 0.007017 sd: 0.979182\n"
          ],
          "name": "stdout"
        }
      ]
    },
    {
      "cell_type": "code",
      "metadata": {
        "id": "B4deqx2m0ugZ",
        "outputId": "2fbb7ee2-70e9-4813-a204-68b29fb34069",
        "colab": {
          "base_uri": "https://localhost:8080/"
        }
      },
      "source": [
        "(train_x, train_y), (test_x, test_y) = tf.keras.datasets.mnist.load_data()\n",
        "\n",
        "print('train_dataset: {} images'.format(len(train_x)))\n",
        "print('test_dataset : {} images'.format(len(test_x)))"
      ],
      "execution_count": 3,
      "outputs": [
        {
          "output_type": "stream",
          "text": [
            "Downloading data from https://storage.googleapis.com/tensorflow/tf-keras-datasets/mnist.npz\n",
            "11493376/11490434 [==============================] - 0s 0us/step\n",
            "train_dataset: 60000 images\n",
            "test_dataset : 10000 images\n"
          ],
          "name": "stdout"
        }
      ]
    },
    {
      "cell_type": "code",
      "metadata": {
        "id": "ORvFqhP_0xvo"
      },
      "source": [
        "SHUFFLE_BUFFER_SIZE = 1000\n",
        "BATCH_SIZE = 64\n",
        "\n",
        "@tf.function\n",
        "def _parse_function(img, label):\n",
        "    feature = {}\n",
        "    img = tf.pad(img, paddings=[[2, 2], [2, 2]], mode=\"CONSTANT\")\n",
        "    img = tf.expand_dims(img, axis=-1)\n",
        "    img = tf.reshape(img, [32, 32, 1])\n",
        "    img = tf.cast(img, dtype=tf.float32)\n",
        "    img = (img / (255.0 / 2)) - 1\n",
        "    feature['img'] = img\n",
        "    feature['label'] = label\n",
        "    return feature\n",
        "\n",
        "train_dataset_raw = tf.data.Dataset.from_tensor_slices((train_x, train_y)).map(_parse_function)\n",
        "test_dataset_raw = tf.data.Dataset.from_tensor_slices((test_x, test_y)).map(_parse_function)"
      ],
      "execution_count": 5,
      "outputs": []
    },
    {
      "cell_type": "code",
      "metadata": {
        "id": "QL2FPmAx02Fk",
        "outputId": "948d6ce0-f623-49cf-b502-373d9525b3fb",
        "colab": {
          "base_uri": "https://localhost:8080/",
          "height": 266
        }
      },
      "source": [
        "\n",
        "for image_features in train_dataset_raw.take(1):\n",
        "    plt.imshow(tf.squeeze(image_features['img'], axis=-1), cmap='gray_r')"
      ],
      "execution_count": 6,
      "outputs": [
        {
          "output_type": "display_data",
          "data": {
            "image/png": "[encoded data removed]",
            "text/plain": [
              "<Figure size 432x288 with 1 Axes>"
            ]
          },
          "metadata": {
            "tags": [],
            "needs_background": "light"
          }
        }
      ]
    },
    {
      "cell_type": "code",
      "metadata": {
        "id": "NnIyOk0Z06_X",
        "outputId": "9f946033-f893-4a8a-d7a3-bec9d6c780f6",
        "colab": {
          "base_uri": "https://localhost:8080/"
        }
      },
      "source": [
        "from tensorflow.keras.layers import Layer, BatchNormalization, ReLU, Conv2D\n",
        "from tensorflow.keras import Model\n",
        "\n",
        "\n",
        "class NN(Layer):\n",
        "    def __init__(\n",
        "        self,\n",
        "        input_shape,\n",
        "        n_hidden=[512, 512],\n",
        "        kernel_size=[[3, 3], [1, 1]],\n",
        "        strides=[[1, 1], [1, 1]],\n",
        "        activation=\"relu\",\n",
        "        name=None,\n",
        "    ):\n",
        "        if name:\n",
        "            super(NN, self).__init__(name=name)\n",
        "        else:\n",
        "            super(NN, self).__init__()\n",
        "        layer_list = []\n",
        "        for i, (hidden, kernel, stride) in enumerate(\n",
        "            zip(n_hidden, kernel_size, strides)\n",
        "        ):\n",
        "            layer_list.append(\n",
        "                Conv2D(\n",
        "                    hidden,\n",
        "                    kernel_size=kernel,\n",
        "                    strides=stride,\n",
        "                    activation=activation,\n",
        "                    padding='SAME',\n",
        "                    name=\"dense_{}_1\".format(i),\n",
        "                )\n",
        "            )\n",
        "        self.layer_list = layer_list\n",
        "        self.log_s_layer = Conv2D(\n",
        "            input_shape,\n",
        "            kernel_size=[3, 3],\n",
        "            strides=[1, 1],\n",
        "            padding='SAME',\n",
        "            kernel_initializer=\"zeros\",\n",
        "            activation=\"tanh\",\n",
        "            name=\"log_s\",\n",
        "        )\n",
        "        self.t_layer = Conv2D(\n",
        "            input_shape,\n",
        "            kernel_size=[3, 3],\n",
        "            strides=[1, 1],\n",
        "            padding='SAME',\n",
        "            kernel_initializer=\"zeros\",\n",
        "            name=\"t\",\n",
        "        )\n",
        "\n",
        "    def call(self, x):\n",
        "        y = x\n",
        "        for layer in self.layer_list:\n",
        "            y = layer(y)\n",
        "        log_s = self.log_s_layer(y)\n",
        "        t = self.t_layer(y)\n",
        "        return log_s, t\n",
        "\n",
        "\n",
        "def nn_test():\n",
        "    nn = NN(2, [256, 256])\n",
        "    x = tf.keras.Input([16, 16, 2])\n",
        "    log_s, t = nn(x)\n",
        "    # Non trainable params: -> Batch Normalization's params\n",
        "    tf.keras.Model(x, [log_s, t], name=\"nn_test\").summary()\n",
        "\n",
        "\n",
        "nn_test()"
      ],
      "execution_count": 7,
      "outputs": [
        {
          "output_type": "stream",
          "text": [
            "Model: \"nn_test\"\n",
            "_________________________________________________________________\n",
            "Layer (type)                 Output Shape              Param #   \n",
            "=================================================================\n",
            "input_1 (InputLayer)         [(None, 16, 16, 2)]       0         \n",
            "_________________________________________________________________\n",
            "nn (NN)                      ((None, 16, 16, 2), (None 79876     \n",
            "=================================================================\n",
            "Total params: 79,876\n",
            "Trainable params: 79,876\n",
            "Non-trainable params: 0\n",
            "_________________________________________________________________\n"
          ],
          "name": "stdout"
        }
      ]
    },
    {
      "cell_type": "code",
      "metadata": {
        "id": "_T-fC_RB1LNI",
        "outputId": "213fb2ec-c18b-4447-a598-0126ebb5cb93",
        "colab": {
          "base_uri": "https://localhost:8080/"
        }
      },
      "source": [
        "class RealNVP(tfb.Bijector):\n",
        "    def __init__(\n",
        "        self,\n",
        "        input_shape,\n",
        "        forward_min_event_ndims=3,\n",
        "        validate_args: bool = False,\n",
        "        name=\"real_nvp\",\n",
        "        n_hidden=[512, 512],\n",
        "        **kargs,\n",
        "    ):\n",
        "        \"\"\"\n",
        "        Args:\n",
        "            input_shape: \n",
        "                input_shape, \n",
        "                ex. [28, 28, 3] (image) [2] (x-y vector)\n",
        "            forward_min_event_ndims:\n",
        "                this bijector do \n",
        "                1. element-wize quantities => 0\n",
        "                2. vector-wize quantities => 1\n",
        "                3. matrix-wize quantities => 2\n",
        "                4. tensor-wize quantities => 3\n",
        "            n_hidden:\n",
        "                see. class NN\n",
        "            **kargs:\n",
        "                see. class NN\n",
        "                you can inuput NN's layers parameter here.\n",
        "        \"\"\"\n",
        "        super(RealNVP, self).__init__(\n",
        "            validate_args=validate_args,\n",
        "            forward_min_event_ndims=forward_min_event_ndims,\n",
        "            name=name,\n",
        "        )\n",
        "\n",
        "        assert input_shape[-1] % 2 == 0\n",
        "        self.input_shape = input_shape\n",
        "        nn_layer = NN(input_shape[-1] // 2, n_hidden)\n",
        "        nn_input_shape = input_shape.copy()\n",
        "        nn_input_shape[-1] = input_shape[-1] // 2\n",
        "        x = tf.keras.Input(nn_input_shape)\n",
        "        log_s, t = nn_layer(x)\n",
        "        self.nn = Model(x, [log_s, t], name=self.name + \"/nn\")\n",
        "\n",
        "    def _forward(self, x):\n",
        "        x_a, x_b = tf.split(x, 2, axis=-1)\n",
        "        y_b = x_b\n",
        "        log_s, t = self.nn(x_b)\n",
        "        s = tf.exp(log_s)\n",
        "        y_a = s * x_a + t\n",
        "        y = tf.concat([y_a, y_b], axis=-1)\n",
        "        return y\n",
        "\n",
        "    def _inverse(self, y):\n",
        "        y_a, y_b = tf.split(y, 2, axis=-1)\n",
        "        x_b = y_b\n",
        "        log_s, t = self.nn(y_b)\n",
        "        s = tf.exp(log_s)\n",
        "        x_a = (y_a - t) / s\n",
        "        x = tf.concat([x_a, x_b], axis=-1)\n",
        "        return x\n",
        "\n",
        "    def _forward_log_det_jacobian(self, x):\n",
        "        _, x_b = tf.split(x, 2, axis=-1)\n",
        "        log_s, t = self.nn(x_b)\n",
        "        return tf.reduce_sum(log_s)\n",
        "\n",
        "\n",
        "def realnvp_test():\n",
        "    realnvp = RealNVP(input_shape=[16, 16, 4], n_hidden=[256, 256])\n",
        "    x = tf.keras.Input([16, 16, 4])\n",
        "    y = realnvp.forward(x)\n",
        "    print(\"trainable_variables :\", len(realnvp.trainable_variables))\n",
        "\n",
        "    flow = tfd.TransformedDistribution(\n",
        "        event_shape=[16, 16, 4],\n",
        "        distribution=tfd.Normal(loc=0.0, scale=1.0),\n",
        "        bijector=realnvp,\n",
        "    )\n",
        "    x = flow.sample(64)\n",
        "    y = realnvp.inverse(x)\n",
        "    log_prob = flow.log_prob(y)\n",
        "    print(\n",
        "        x.shape,\n",
        "        y.shape,\n",
        "        log_prob.shape,\n",
        "    )\n",
        "\n",
        "\n",
        "realnvp_test()"
      ],
      "execution_count": 8,
      "outputs": [
        {
          "output_type": "stream",
          "text": [
            "trainable_variables : 8\n",
            "(64, 16, 16, 4) (64, 16, 16, 4) (64,)\n"
          ],
          "name": "stdout"
        }
      ]
    },
    {
      "cell_type": "code",
      "metadata": {
        "id": "tYKReBz91Q6F",
        "outputId": "25763bd6-c7a1-41dc-b862-2db104bbee9f",
        "colab": {
          "base_uri": "https://localhost:8080/"
        }
      },
      "source": [
        "class RevPermute(tfb.Bijector):\n",
        "    def __init__(\n",
        "        self,\n",
        "        axis=[-1],\n",
        "        forward_min_event_ndims=0,\n",
        "        validate_args=False,\n",
        "        name=\"RevPermute\",\n",
        "    ):\n",
        "        super(RevPermute, self).__init__(\n",
        "            forward_min_event_ndims=forward_min_event_ndims,\n",
        "            validate_args=validate_args,\n",
        "            name=name,\n",
        "            is_constant_jacobian=True\n",
        "        )\n",
        "        self._axis = axis\n",
        "\n",
        "    @property\n",
        "    def axis(self):\n",
        "        return self._axis\n",
        "\n",
        "    def _forward(self, x):\n",
        "        return tf.reverse(x, self.axis)\n",
        "\n",
        "    def _inverse(self, y):\n",
        "        return tf.reverse(y, self.axis)\n",
        "\n",
        "    def _forward_log_det_jacobian(self, x):\n",
        "        return tf.constant(0.0, dtype=x.dtype)\n",
        "\n",
        "    def _inverse_log_det_jacobian(self, y):\n",
        "        return tf.constant(0.0, dtype=y.dtype)\n",
        "\n",
        "\n",
        "def test_revPermute():\n",
        "    revPermute = RevPermute()\n",
        "    x = tf.keras.Input([16, 16, 4])\n",
        "    y = revPermute.forward(x)\n",
        "    # tf.keras.Model(x, y).summary()\n",
        "\n",
        "    x = tf.random.normal([2, 16, 16, 4])\n",
        "    y = revPermute.forward(x)\n",
        "    z = revPermute.inverse(y)\n",
        "    flow = tfd.TransformedDistribution(distribution=target_dist, bijector=revPermute)\n",
        "    print(tf.reduce_mean(flow.log_prob(tf.random.normal([2, 16, 16, 3]))))\n",
        "    return tf.reduce_sum(z - x)\n",
        "\n",
        "\n",
        "test_revPermute()"
      ],
      "execution_count": 9,
      "outputs": [
        {
          "output_type": "stream",
          "text": [
            "tf.Tensor(-1.4293739, shape=(), dtype=float32)\n"
          ],
          "name": "stdout"
        },
        {
          "output_type": "execute_result",
          "data": {
            "text/plain": [
              "<tf.Tensor: shape=(), dtype=float32, numpy=0.0>"
            ]
          },
          "metadata": {
            "tags": []
          },
          "execution_count": 9
        }
      ]
    },
    {
      "cell_type": "code",
      "metadata": {
        "id": "-Tnn0LX31SVa",
        "outputId": "603f2b18-f3d5-4d69-88e5-89369a6bbc34",
        "colab": {
          "base_uri": "https://localhost:8080/"
        }
      },
      "source": [
        "class Squeeze3D(tfb.Bijector):\n",
        "    def __init__(\n",
        "        self,\n",
        "        factor=2,\n",
        "        forward_min_event_ndims=0,\n",
        "        inverse_min_event_ndims=0,\n",
        "        validate_args=False,\n",
        "        name=\"Squeeze\",\n",
        "    ):\n",
        "        self._factor = factor\n",
        "        super(Squeeze3D, self).__init__(\n",
        "            forward_min_event_ndims=forward_min_event_ndims,\n",
        "            inverse_min_event_ndims=inverse_min_event_ndims,\n",
        "            name=name,\n",
        "            is_constant_jacobian=True\n",
        "        )\n",
        "\n",
        "    @property\n",
        "    def factor(self):\n",
        "        return self._factor\n",
        "\n",
        "    def _forward(self, x):\n",
        "        (H, W, C) = x.shape[1:]\n",
        "        batch_size = tf.shape(x)[0:1]\n",
        "        tmp_shape = tf.concat(\n",
        "            [\n",
        "                batch_size,\n",
        "                (H // self.factor, self.factor, W // self.factor, self.factor, C),\n",
        "            ],\n",
        "            axis=0,\n",
        "        )\n",
        "        output_shape = tf.concat(\n",
        "            [batch_size, (H // self.factor, W // self.factor, C * self.factor ** 2)],\n",
        "            axis=0,\n",
        "        )\n",
        "        y = tf.reshape(x, tmp_shape)\n",
        "        y = tf.transpose(y, [0, 1, 3, 5, 2, 4])\n",
        "        y = tf.reshape(y, output_shape)\n",
        "        return y\n",
        "\n",
        "    def _inverse(self, y):\n",
        "        (H, W, C) = y.shape[1:]\n",
        "        batch_size = tf.shape(y)[0:1]\n",
        "        tmp_shape = tf.concat(\n",
        "            [batch_size, (H, W, C // self.factor ** 2, self.factor, self.factor)], axis=0\n",
        "        )\n",
        "        output_shape = tf.concat(\n",
        "            [batch_size, (H * self.factor, W * self.factor, C // self.factor ** 2)], axis=0\n",
        "        )\n",
        "        x = tf.reshape(y, tmp_shape)\n",
        "        x = tf.transpose(x, [0, 1, 4, 2, 5, 3])\n",
        "        x = tf.reshape(x, output_shape)\n",
        "        return x\n",
        "\n",
        "    def _forward_log_det_jacobian(self, x):\n",
        "        return tf.constant(0.0, dtype=x.dtype)\n",
        "\n",
        "\n",
        "def test_squeeze3D():\n",
        "    factor = 2\n",
        "    x = tf.Variable([[[1, 2, 5, 6], [3, 4, 7, 8], [9, 10, 13, 14], [11, 12, 15, 16]]])\n",
        "    x = tf.expand_dims(x, axis=-1)\n",
        "    squeeze3d = Squeeze3D()\n",
        "    y = squeeze3d.forward(x)\n",
        "    z = squeeze3d.inverse(y)\n",
        "    print(tf.reduce_sum(x - z))\n",
        "    \n",
        "    flow = tfd.TransformedDistribution(\n",
        "        event_shape=[16, 16, 2],\n",
        "        distribution=tfd.Normal(loc=0., scale=1.),\n",
        "        bijector=squeeze3d\n",
        "    )\n",
        "    x = tf.random.normal([64, 16, 16, 2])\n",
        "    y = flow.bijector.forward(x)\n",
        "    log_prob = flow.log_prob(y)\n",
        "    print(x.shape, y.shape, log_prob.shape)\n",
        "    \n",
        "\n",
        "test_squeeze3D()"
      ],
      "execution_count": 10,
      "outputs": [
        {
          "output_type": "stream",
          "text": [
            "tf.Tensor(0, shape=(), dtype=int32)\n",
            "(64, 16, 16, 2) (64, 8, 8, 8) (64,)\n"
          ],
          "name": "stdout"
        }
      ]
    },
    {
      "cell_type": "code",
      "metadata": {
        "id": "cn1sdeIc1gS1",
        "outputId": "65369274-3312-4da1-991d-0b0848abf5b1",
        "colab": {
          "base_uri": "https://localhost:8080/"
        }
      },
      "source": [
        "def gen_flow_chain(level=3):\n",
        "    flow_chain_list = []\n",
        "    for i in range(level):\n",
        "        flow_chain_list.append(Squeeze3D())\n",
        "        flow_chain_list.append(tfb.BatchNormalization())\n",
        "        flow_chain_list.append(RevPermute()),\n",
        "        flow_chain_list.append(RealNVP(input_shape=[16, 16, 4], n_hidden=[256, 256])),\n",
        "        flow_chain_list.append(tfb.Invert(Squeeze3D()))\n",
        "    return tfb.Chain(list(reversed(flow_chain_list)))  \n",
        "    \n",
        "flow_bijector = gen_flow_chain()\n",
        "\n",
        "flow = tfd.TransformedDistribution(\n",
        "    event_shape=[32, 32, 1],\n",
        "    distribution=tfd.Normal(loc=0.0, scale=1.0),\n",
        "    bijector=tfb.Invert(flow_bijector),\n",
        ")\n",
        "\n",
        "x = tf.random.normal([64, 32, 32, 1])\n",
        "log_prob = flow.log_prob(x)\n",
        "print(log_prob.shape, -tf.reduce_mean(log_prob))"
      ],
      "execution_count": 11,
      "outputs": [
        {
          "output_type": "stream",
          "text": [
            "(64,) tf.Tensor(1456.0468, shape=(), dtype=float32)\n"
          ],
          "name": "stdout"
        }
      ]
    },
    {
      "cell_type": "code",
      "metadata": {
        "id": "1PSzSt5G1l1X",
        "outputId": "37b8ef88-407f-4525-f472-a6a83b3fa809",
        "colab": {
          "base_uri": "https://localhost:8080/"
        }
      },
      "source": [
        "# ref: https://github.com/tensorflow/probability/blob/master/tensorflow_probability/python/bijectors/blockwise.py\n",
        "class Blockwise3D(tfb.Bijector):\n",
        "    def __init__(self, bijectors, block_sizes=None, validate_args=False, name=None):\n",
        "        if not name:\n",
        "            name = \"blockwise3D_of_\" + \"_and_\".join([b.name for b in bijectors])\n",
        "            name = name.replace(\"/\", \"\")\n",
        "        super(Blockwise3D, self).__init__(\n",
        "            # ???\n",
        "            forward_min_event_ndims=3,\n",
        "            validate_args=validate_args,\n",
        "            name=name,\n",
        "        )\n",
        "        self._bijectors = bijectors\n",
        "        self._block_sizes = block_sizes\n",
        "\n",
        "    @property\n",
        "    def bijectors(self):\n",
        "        return self._bijectors\n",
        "\n",
        "    @property\n",
        "    def block_sizes(self):\n",
        "        return self._block_sizes\n",
        "\n",
        "    def _forward(self, x):\n",
        "        split_x = (\n",
        "            tf.split(x, len(self.bijectors), axis=-1)\n",
        "            if self.block_sizes is None\n",
        "            else tf.split(x, self.block_sizes, axis=-1)\n",
        "        )\n",
        "        split_y = [b.forward(x_) for b, x_ in zip(self.bijectors, split_x)]\n",
        "        y = tf.concat(split_y, axis=-1)\n",
        "        return y\n",
        "\n",
        "    def _inverse(self, y):\n",
        "        split_y = (\n",
        "            tf.split(y, len(self.bijectors), axis=-1)\n",
        "            if self.block_sizes is None\n",
        "            else tf.split(y, self.block_sizes, axis=-1)\n",
        "        )\n",
        "        split_x = [b.inverse(y_) for b, y_ in zip(self.bijectors, split_y)]\n",
        "        x = tf.concat(split_x, axis=-1)\n",
        "        return x\n",
        "\n",
        "    def _forward_log_det_jacobian(self, x):\n",
        "        split_x = (\n",
        "            tf.split(x, len(self.bijectors), axis=-1)\n",
        "            if self.block_sizes is None\n",
        "            else tf.split(x, self.block_sizes, axis=-1)\n",
        "        )\n",
        "        fldjs = [\n",
        "            # ???\n",
        "            b.forward_log_det_jacobian(x_, event_ndims=3)\n",
        "            for b, x_ in zip(self.bijectors, split_x)\n",
        "        ]\n",
        "        return sum(fldjs)\n",
        "\n",
        "    def _inverse_log_det_jacobian(self, y):\n",
        "        split_y = (\n",
        "            tf.split(y, len(self.bijectors), axis=-1)\n",
        "            if self.block_sizes is None\n",
        "            else tf.split(y, self.block_sizes, axis=-1)\n",
        "        )\n",
        "        ildjs = [\n",
        "            b.inverse_log_det_jacobian(y_, event_ndims=3)\n",
        "            for b, y_ in zip(self.bijectors, split_y)\n",
        "        ]\n",
        "        return sum(ildjs)\n",
        "\n",
        "\n",
        "def test_blockwise3D():\n",
        "    blockwise3D = Blockwise3D(\n",
        "        bijectors=[\n",
        "            tfb.Identity(),\n",
        "            RealNVP(input_shape=[16, 16, 2], n_hidden=[256, 256]),\n",
        "        ]\n",
        "    )\n",
        "\n",
        "    x = tf.keras.Input([16, 16, 4])\n",
        "    y = blockwise3D.forward(x)\n",
        "    # tf.keras.Model(x, y).summary()\n",
        "\n",
        "    x = tf.random.normal([3, 16, 16, 4])\n",
        "    y = blockwise3D.forward(x)\n",
        "    z = blockwise3D.inverse(y)\n",
        "    return tf.reduce_sum(z - x)\n",
        "\n",
        "\n",
        "test_blockwise3D()"
      ],
      "execution_count": 12,
      "outputs": [
        {
          "output_type": "execute_result",
          "data": {
            "text/plain": [
              "<tf.Tensor: shape=(), dtype=float32, numpy=0.0>"
            ]
          },
          "metadata": {
            "tags": []
          },
          "execution_count": 12
        }
      ]
    },
    {
      "cell_type": "code",
      "metadata": {
        "id": "HN5O_KGm1rj5",
        "outputId": "ac170345-406b-491f-937f-911ff7afc3a0",
        "colab": {
          "base_uri": "https://localhost:8080/"
        }
      },
      "source": [
        "def gen_flowSteps(\n",
        "    # for realnvp\n",
        "    input_shape: list,\n",
        "    n_hidden: list = [256, 256],\n",
        "    # for flowStep\n",
        "    k=2,\n",
        "    forward_min_event_ndims: int = 3,\n",
        "    validate_args: bool = False,\n",
        "    name: str = \"flow_step\",\n",
        "):\n",
        "    flow_step_list = []\n",
        "    for i in range(k):\n",
        "        flow_step_list.append(tfb.BatchNormalization(validate_args=validate_args))\n",
        "        flow_step_list.append(RevPermute(validate_args=validate_args)),\n",
        "        flow_step_list.append(\n",
        "            RealNVP(\n",
        "                input_shape=input_shape,\n",
        "                n_hidden=n_hidden,\n",
        "                validate_args=validate_args,\n",
        "                name=\"{}_{}/realnvp\".format(name, i),\n",
        "            )\n",
        "        )\n",
        "\n",
        "    flowSteps = tfb.Chain(\n",
        "        list(reversed(flow_step_list)), validate_args=validate_args, name=name\n",
        "    )\n",
        "    return flowSteps\n",
        "\n",
        "\n",
        "def test_gen_flowSteps():\n",
        "    flowSteps = gen_flowSteps(\n",
        "        k=2, input_shape=[16, 16, 4], forward_min_event_ndims=0, name=\"flowstep_0\"\n",
        "    )\n",
        "    x = tf.keras.Input([16, 16, 4])\n",
        "    y = flowSteps(x)\n",
        "    # tf.keras.Model(x, y).summary()\n",
        "\n",
        "    x = tf.random.normal([6, 16, 16, 4])\n",
        "    y = flowSteps.forward(x)\n",
        "    z = flowSteps.inverse(y)\n",
        "    return tf.reduce_sum(z - x)\n",
        "\n",
        "\n",
        "test_gen_flowSteps()"
      ],
      "execution_count": 13,
      "outputs": [
        {
          "output_type": "execute_result",
          "data": {
            "text/plain": [
              "<tf.Tensor: shape=(), dtype=float32, numpy=0.0>"
            ]
          },
          "metadata": {
            "tags": []
          },
          "execution_count": 13
        }
      ]
    },
    {
      "cell_type": "code",
      "metadata": {
        "id": "n4gLCdyf1yXm",
        "outputId": "331288a4-75b0-4f14-b455-64467302d1ac",
        "colab": {
          "base_uri": "https://localhost:8080/"
        }
      },
      "source": [
        "def gen_flow(input_shape, level=3, flow_step_args: dict = None):\n",
        "    def _gen_input_shapes(input_shape, level):\n",
        "        input_shape = input_shape\n",
        "        input_shapes = []\n",
        "        for i in range(level):\n",
        "            input_shape = [\n",
        "                input_shape[0] // 2,\n",
        "                input_shape[1] // 2,\n",
        "                input_shape[2] * 4 - i * 8,\n",
        "            ]\n",
        "            input_shapes.append(input_shape)\n",
        "        return input_shapes\n",
        "\n",
        "    input_shapes = _gen_input_shapes(input_shape, level)\n",
        "\n",
        "    def _add_flow(_input_shapes, flow_step_args):\n",
        "        flow_lists = []\n",
        "        flow_lists.append(\n",
        "            Squeeze3D(name=\"Squeeze_{}\".format(level - len(_input_shapes)))\n",
        "        )\n",
        "        flowSteps = gen_flowSteps(\n",
        "           k=2,\n",
        "           input_shape=_input_shapes[0],\n",
        "           name=\"Flowsteps_{}\".format(level - len(_input_shapes)),\n",
        "        )\n",
        "        flow_lists.append(flowSteps)\n",
        "        if len(_input_shapes) != 1:\n",
        "            flow_lists.append(\n",
        "                Blockwise3D(\n",
        "                    [\n",
        "                        tfb.Identity(),\n",
        "                        tfb.Chain(\n",
        "                            list(reversed(_add_flow(_input_shapes[1:], flow_step_args)))\n",
        "                        ),\n",
        "                    ],\n",
        "                    name=\"Blockwise3D_{}\".format(level - len(_input_shapes)),\n",
        "                )\n",
        "            )\n",
        "        flow_lists.append(\n",
        "            tfb.Invert(\n",
        "                Squeeze3D(name=\"Unsqueeze_{}\".format(level - len(_input_shapes)))\n",
        "            )\n",
        "        )\n",
        "        return flow_lists\n",
        "\n",
        "    return tfb.Chain(list(reversed(_add_flow(input_shapes, level))))\n",
        "\n",
        "\n",
        "def test_gen_flow():\n",
        "    flow = gen_flow([32, 32, 1])\n",
        "    print(len(flow.trainable_variables))\n",
        "    x = tf.keras.Input([32, 32, 1])\n",
        "    y = flow.forward(x)\n",
        "    # tf.keras.Model(x, y).summary()\n",
        "    x = tf.random.normal([3, 32, 32, 1])\n",
        "    y = flow.forward(x)\n",
        "    z = flow.inverse(y) \n",
        "    return tf.reduce_sum(z - x)\n",
        "\n",
        "test_gen_flow()"
      ],
      "execution_count": 14,
      "outputs": [
        {
          "output_type": "stream",
          "text": [
            "48\n"
          ],
          "name": "stdout"
        },
        {
          "output_type": "execute_result",
          "data": {
            "text/plain": [
              "<tf.Tensor: shape=(), dtype=float32, numpy=0.0>"
            ]
          },
          "metadata": {
            "tags": []
          },
          "execution_count": 14
        }
      ]
    },
    {
      "cell_type": "code",
      "metadata": {
        "id": "7HYSubHD118_",
        "outputId": "ed9873a2-29d1-45dc-efac-8ed9128ab6cc",
        "colab": {
          "base_uri": "https://localhost:8080/"
        }
      },
      "source": [
        "flow_bijector = gen_flow([32, 32, 1])\n",
        "print(len(flow_bijector.trainable_variables))\n",
        "flow = tfd.TransformedDistribution(\n",
        "    event_shape =[32, 32, 1],\n",
        "    distribution=tfd.Normal(loc=0.0, scale=1.0),\n",
        "    bijector=flow_bijector\n",
        ")\n",
        "print('trainable_variables: ', len(flow.bijector.trainable_variables))"
      ],
      "execution_count": 15,
      "outputs": [
        {
          "output_type": "stream",
          "text": [
            "48\n",
            "trainable_variables:  48\n"
          ],
          "name": "stdout"
        }
      ]
    },
    {
      "cell_type": "code",
      "metadata": {
        "id": "28RkmeiH132h"
      },
      "source": [
        "@tf.function\n",
        "def loss():\n",
        "    return - tf.reduce_mean(flow.log_prob(targets['img']))\n",
        "\n",
        "\n",
        "optimizer = tf.optimizers.Adam(learning_rate=1e-4) \n",
        "# log = tf.summary.create_file_writer('checkpoints')\n",
        "avg_loss = tf.keras.metrics.Mean(name='loss', dtype=tf.float32)"
      ],
      "execution_count": 16,
      "outputs": []
    },
    {
      "cell_type": "code",
      "metadata": {
        "id": "tfjf2nki117N",
        "outputId": "342a3c09-cf6b-4ab2-af2c-d4f7dcd1f12c",
        "colab": {
          "base_uri": "https://localhost:8080/"
        }
      },
      "source": [
        "BATCH_SIZE=64\n",
        "train_dataset = train_dataset_raw.shuffle(SHUFFLE_BUFFER_SIZE).batch(BATCH_SIZE)\n",
        "for target in train_dataset.take(1):\n",
        "    targets = target\n",
        "print(targets['img'].shape)\n",
        "with tf.GradientTape() as tape:\n",
        "    log_prob_loss = loss()\n",
        "grads = tape.gradient(log_prob_loss, flow.trainable_variables)\n",
        "print(log_prob_loss)"
      ],
      "execution_count": 19,
      "outputs": [
        {
          "output_type": "stream",
          "text": [
            "(64, 32, 32, 1)\n",
            "WARNING:tensorflow:From /usr/local/lib/python3.6/dist-packages/tensorflow_probability/python/bijectors/batch_normalization.py:210: Layer.apply (from tensorflow.python.keras.engine.base_layer) is deprecated and will be removed in a future version.\n",
            "Instructions for updating:\n",
            "Please use `layer.__call__` method instead.\n",
            "tf.Tensor(786.25885, shape=(), dtype=float32)\n"
          ],
          "name": "stdout"
        }
      ]
    },
    {
      "cell_type": "code",
      "metadata": {
        "id": "JzLW8f5S2H2v",
        "outputId": "019fa235-7eb8-4874-d28c-2814b8138241",
        "colab": {
          "base_uri": "https://localhost:8080/"
        }
      },
      "source": [
        "n_epochs = 30\n",
        "\n",
        "for epoch in range(n_epochs):\n",
        "    for targets in train_dataset:\n",
        "        with tf.GradientTape() as tape:\n",
        "            log_prob_loss = loss()\n",
        "        grads = tape.gradient(log_prob_loss, flow.trainable_variables)\n",
        "        optimizer.apply_gradients(zip(grads, flow.trainable_variables))\n",
        "        avg_loss.update_state(log_prob_loss)\n",
        "        if tf.equal(optimizer.iterations % 1000, 0):\n",
        "            print(\"Step {} Loss {:.6f}\".format(optimizer.iterations, avg_loss.result()))\n",
        "        if tf.equal(optimizer.iterations % 100, 0):\n",
        "            # with log.as_default():\n",
        "            #     tf.summary.scalar(\"loss\", avg_loss.result(), step=optimizer.iterations)\n",
        "            #     avg_loss.reset_states()\n",
        "            avg_loss.reset_states()\n",
        "          "
      ],
      "execution_count": 20,
      "outputs": [
        {
          "output_type": "stream",
          "text": [
            "Step <tf.Variable 'Adam/iter:0' shape=() dtype=int64, numpy=1000> Loss -113288.296875\n",
            "Step <tf.Variable 'Adam/iter:0' shape=() dtype=int64, numpy=2000> Loss -113962.289062\n",
            "Step <tf.Variable 'Adam/iter:0' shape=() dtype=int64, numpy=3000> Loss -114280.156250\n",
            "Step <tf.Variable 'Adam/iter:0' shape=() dtype=int64, numpy=4000> Loss -114430.031250\n",
            "Step <tf.Variable 'Adam/iter:0' shape=() dtype=int64, numpy=5000> Loss -114534.921875\n",
            "Step <tf.Variable 'Adam/iter:0' shape=() dtype=int64, numpy=6000> Loss -114629.968750\n",
            "Step <tf.Variable 'Adam/iter:0' shape=() dtype=int64, numpy=7000> Loss -114787.570312\n",
            "Step <tf.Variable 'Adam/iter:0' shape=() dtype=int64, numpy=8000> Loss -114864.156250\n",
            "Step <tf.Variable 'Adam/iter:0' shape=() dtype=int64, numpy=9000> Loss -114858.593750\n",
            "Step <tf.Variable 'Adam/iter:0' shape=() dtype=int64, numpy=10000> Loss -114904.593750\n",
            "Step <tf.Variable 'Adam/iter:0' shape=() dtype=int64, numpy=11000> Loss -115019.476562\n",
            "Step <tf.Variable 'Adam/iter:0' shape=() dtype=int64, numpy=12000> Loss -115056.328125\n",
            "Step <tf.Variable 'Adam/iter:0' shape=() dtype=int64, numpy=13000> Loss -115039.406250\n",
            "Step <tf.Variable 'Adam/iter:0' shape=() dtype=int64, numpy=14000> Loss -114990.726562\n",
            "Step <tf.Variable 'Adam/iter:0' shape=() dtype=int64, numpy=15000> Loss -115058.250000\n",
            "Step <tf.Variable 'Adam/iter:0' shape=() dtype=int64, numpy=16000> Loss -115079.859375\n",
            "Step <tf.Variable 'Adam/iter:0' shape=() dtype=int64, numpy=17000> Loss -115012.148438\n",
            "Step <tf.Variable 'Adam/iter:0' shape=() dtype=int64, numpy=18000> Loss -115109.296875\n",
            "Step <tf.Variable 'Adam/iter:0' shape=() dtype=int64, numpy=19000> Loss -115092.132812\n",
            "Step <tf.Variable 'Adam/iter:0' shape=() dtype=int64, numpy=20000> Loss -115216.359375\n",
            "Step <tf.Variable 'Adam/iter:0' shape=() dtype=int64, numpy=21000> Loss -115148.109375\n",
            "Step <tf.Variable 'Adam/iter:0' shape=() dtype=int64, numpy=22000> Loss -115197.390625\n",
            "Step <tf.Variable 'Adam/iter:0' shape=() dtype=int64, numpy=23000> Loss -115153.429688\n",
            "Step <tf.Variable 'Adam/iter:0' shape=() dtype=int64, numpy=24000> Loss -115266.992188\n",
            "Step <tf.Variable 'Adam/iter:0' shape=() dtype=int64, numpy=25000> Loss -115168.242188\n",
            "Step <tf.Variable 'Adam/iter:0' shape=() dtype=int64, numpy=26000> Loss -115181.367188\n",
            "Step <tf.Variable 'Adam/iter:0' shape=() dtype=int64, numpy=27000> Loss -115234.070312\n",
            "Step <tf.Variable 'Adam/iter:0' shape=() dtype=int64, numpy=28000> Loss -115276.000000\n"
          ],
          "name": "stdout"
        }
      ]
    },
    {
      "cell_type": "code",
      "metadata": {
        "id": "NLY2F-u_2KTr"
      },
      "source": [
        "test_dataset = test_dataset_raw.shuffle(SHUFFLE_BUFFER_SIZE).batch(BATCH_SIZE)"
      ],
      "execution_count": 21,
      "outputs": []
    },
    {
      "cell_type": "code",
      "metadata": {
        "id": "vOh4HvN22UTM",
        "outputId": "87479c55-f6ca-45a2-d8e6-e244ba224913",
        "colab": {
          "base_uri": "https://localhost:8080/",
          "height": 569
        }
      },
      "source": [
        "fig = plt.figure(figsize=(8, 8))\n",
        "for targets in test_dataset.take(1):\n",
        "    trg = targets[\"img\"]\n",
        "    inv = flow.bijector.inverse(trg)\n",
        "    re_trg = flow.bijector.forward(inv)\n",
        "\n",
        "print('log probability: ', tf.reduce_mean(tfd.Normal(0., 1.).log_prob(inv)).numpy())\n",
        "print(\"inv mean: \", tf.reduce_mean(inv).numpy(), \" std: \", tf.math.reduce_std(inv).numpy())\n",
        "print(\"re:trg mean: \", tf.reduce_mean(re_trg).numpy(), \" std: \", tf.math.reduce_std(re_trg).numpy())\n",
        "\n",
        "re_inv = np.array([(inv[0] + inv[1]) / 2.0])\n",
        "print(re_inv.shape)\n",
        "re_re_trg = flow.bijector.forward(re_inv)\n",
        "\n",
        "ax = fig.add_subplot(2, 3, 1)\n",
        "ax.imshow(tf.squeeze(trg[0], axis=-1), aspect=\"auto\", cmap=\"gray_r\")\n",
        "\n",
        "ax = fig.add_subplot(2, 3, 4)\n",
        "ax.imshow(tf.squeeze(re_trg[0], axis=-1), aspect=\"auto\", cmap=\"gray_r\")\n",
        "\n",
        "ax = fig.add_subplot(2, 3, 2)\n",
        "ax.imshow(tf.squeeze(trg[1], axis=-1), aspect=\"auto\", cmap=\"gray_r\")\n",
        "\n",
        "ax = fig.add_subplot(2, 3, 5)\n",
        "ax.imshow(tf.squeeze(re_trg[1], axis=-1), aspect=\"auto\", cmap=\"gray_r\")\n",
        "\n",
        "ax = fig.add_subplot(2, 3, 3)\n",
        "ax.imshow(tf.squeeze(re_inv[0], axis=-1), aspect=\"auto\", cmap=\"gray_r\")\n",
        "\n",
        "ax = fig.add_subplot(2, 3, 6)\n",
        "ax.imshow(tf.squeeze(re_re_trg[0], axis=-1), aspect=\"auto\", cmap=\"gray_r\")"
      ],
      "execution_count": 22,
      "outputs": [
        {
          "output_type": "stream",
          "text": [
            "log probability:  -1.5825908\n",
            "inv mean:  -2.7474016e-07  std:  1.152087\n",
            "re:trg mean:  -0.7976864  std:  0.5527031\n",
            "(1, 32, 32, 1)\n"
          ],
          "name": "stdout"
        },
        {
          "output_type": "execute_result",
          "data": {
            "text/plain": [
              "<matplotlib.image.AxesImage at 0x7f3363846ac8>"
            ]
          },
          "metadata": {
            "tags": []
          },
          "execution_count": 22
        },
        {
          "output_type": "display_data",
          "data": {
            "image/png": "[encoded data removed]",
            "text/plain": [
              "<Figure size 576x576 with 6 Axes>"
            ]
          },
          "metadata": {
            "tags": [],
            "needs_background": "light"
          }
        }
      ]
    },
    {
      "cell_type": "code",
      "metadata": {
        "id": "qtZx4-Gl2UQr"
      },
      "source": [
        ""
      ],
      "execution_count": null,
      "outputs": []
    }
  ]
}