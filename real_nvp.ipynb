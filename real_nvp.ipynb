{
  "nbformat": 4,
  "nbformat_minor": 0,
  "metadata": {
    "colab": {
      "name": "real-nvp",
      "provenance": [],
      "authorship_tag": "ABX9TyP8Z3uH+hmKhUKrYGRZ5cIn",
      "include_colab_link": true
    },
    "kernelspec": {
      "name": "python3",
      "display_name": "Python 3"
    },
    "accelerator": "GPU"
  },
  "cells": [
    {
      "cell_type": "markdown",
      "metadata": {
        "id": "view-in-github",
        "colab_type": "text"
      },
      "source": [
        "<a href=\"https://colab.research.google.com/github/MaryDongsn/DL_RL/blob/master/real_nvp.ipynb\" target=\"_parent\"><img src=\"https://colab.research.google.com/assets/colab-badge.svg\" alt=\"Open In Colab\"/></a>"
      ]
    },
    {
      "cell_type": "markdown",
      "metadata": {
        "id": "SMEFMBY-_R9Z"
      },
      "source": [
        "Copyright: https://github.com/MokkeMeguru/glow-realnvp-tutorial/blob/master/examples/jupyter_notebooks/RealNVP_mnist.ipynb"
      ]
    },
    {
      "cell_type": "code",
      "metadata": {
        "id": "ifSrq3S_0npd",
        "colab": {
          "base_uri": "https://localhost:8080/"
        },
        "outputId": "ca23f674-8af4-4dc6-e39c-d1a3bd84304c"
      },
      "source": [
        "import numpy as np\n",
        "import matplotlib.pyplot as plt\n",
        "import tensorflow as tf\n",
        "import tensorflow_probability as tfp\n",
        "\n",
        "tfd = tfp.distributions\n",
        "tfb = tfp.bijectors\n",
        "\n",
        "print('tensorflow: ', tf.__version__)\n",
        "print('tensorflow-probability: ', tfp.__version__)"
      ],
      "execution_count": 1,
      "outputs": [
        {
          "output_type": "stream",
          "text": [
            "tensorflow:  2.3.0\n",
            "tensorflow-probability:  0.11.0\n"
          ],
          "name": "stdout"
        }
      ]
    },
    {
      "cell_type": "code",
      "metadata": {
        "id": "hUAMORMS0tjj",
        "colab": {
          "base_uri": "https://localhost:8080/"
        },
        "outputId": "d1052661-a72a-497b-b1b2-b6b412413ed0"
      },
      "source": [
        "\n",
        "# use Tensorflow's distribution\n",
        "z = tf.random.normal([2, 2, 256])\n",
        "print('Tensorflow             : shape: {} mean: {:.6f} sd: {:.6f}'.format(z.shape, tf.math.reduce_mean(z), tf.math.reduce_std(z)))\n",
        "# use Tensorflow Probability's distribution\n",
        "target_dist = tfd.Normal(loc=0., scale=1.)\n",
        "z = target_dist.sample([2, 2, 256])\n",
        "print('Tensorflow Probability : shape: {} mean: {:.6f} sd: {:.6f}'.format(z.shape, tf.math.reduce_mean(z), tf.math.reduce_std(z)))"
      ],
      "execution_count": 2,
      "outputs": [
        {
          "output_type": "stream",
          "text": [
            "Tensorflow             : shape: (2, 2, 256) mean: -0.000219 sd: 0.987907\n",
            "Tensorflow Probability : shape: (2, 2, 256) mean: 0.007179 sd: 1.006091\n"
          ],
          "name": "stdout"
        }
      ]
    },
    {
      "cell_type": "code",
      "metadata": {
        "id": "B4deqx2m0ugZ",
        "colab": {
          "base_uri": "https://localhost:8080/"
        },
        "outputId": "245454cc-1203-43c7-b7ba-39c1c87dfe07"
      },
      "source": [
        "(train_x, train_y), (test_x, test_y) = tf.keras.datasets.mnist.load_data()\n",
        "\n",
        "print('train_dataset: {} images'.format(len(train_x)))\n",
        "print('test_dataset : {} images'.format(len(test_x)))"
      ],
      "execution_count": 3,
      "outputs": [
        {
          "output_type": "stream",
          "text": [
            "train_dataset: 60000 images\n",
            "test_dataset : 10000 images\n"
          ],
          "name": "stdout"
        }
      ]
    },
    {
      "cell_type": "code",
      "metadata": {
        "id": "ORvFqhP_0xvo"
      },
      "source": [
        "SHUFFLE_BUFFER_SIZE = 1000\n",
        "BATCH_SIZE = 64\n",
        "\n",
        "@tf.function\n",
        "def _parse_function(img, label):\n",
        "    feature = {}\n",
        "    img = tf.pad(img, paddings=[[2, 2], [2, 2]], mode=\"CONSTANT\")\n",
        "    img = tf.expand_dims(img, axis=-1)\n",
        "    img = tf.reshape(img, [32, 32, 1])\n",
        "    img = tf.cast(img, dtype=tf.float32)\n",
        "    img = (img / (255.0 / 2)) - 1\n",
        "    feature['img'] = img\n",
        "    feature['label'] = label\n",
        "    return feature\n",
        "\n",
        "train_dataset_raw = tf.data.Dataset.from_tensor_slices((train_x, train_y)).map(_parse_function)\n",
        "test_dataset_raw = tf.data.Dataset.from_tensor_slices((test_x, test_y)).map(_parse_function)"
      ],
      "execution_count": 4,
      "outputs": []
    },
    {
      "cell_type": "code",
      "metadata": {
        "id": "QL2FPmAx02Fk",
        "colab": {
          "base_uri": "https://localhost:8080/",
          "height": 266
        },
        "outputId": "d730dae0-1ce4-4463-88b5-6b2d1d0bda0c"
      },
      "source": [
        "\n",
        "for image_features in train_dataset_raw.take(1):\n",
        "    plt.imshow(tf.squeeze(image_features['img'], axis=-1), cmap='gray_r')"
      ],
      "execution_count": 5,
      "outputs": [
        {
          "output_type": "display_data",
          "data": {
            "image/png": "[encoded data removed]",
            "text/plain": [
              "<Figure size 432x288 with 1 Axes>"
            ]
          },
          "metadata": {
            "tags": [],
            "needs_background": "light"
          }
        }
      ]
    },
    {
      "cell_type": "code",
      "metadata": {
        "id": "NnIyOk0Z06_X",
        "colab": {
          "base_uri": "https://localhost:8080/"
        },
        "outputId": "3951ec13-4b7c-4a50-c3dc-32cf16dd11cc"
      },
      "source": [
        "from tensorflow.keras.layers import Layer, BatchNormalization, ReLU, Conv2D\n",
        "from tensorflow.keras import Model\n",
        "\n",
        "\n",
        "class NN(Layer):\n",
        "    def __init__(\n",
        "        self,\n",
        "        input_shape,\n",
        "        n_hidden=[512, 512],\n",
        "        kernel_size=[[3, 3], [1, 1]],\n",
        "        strides=[[1, 1], [1, 1]],\n",
        "        activation=\"relu\",\n",
        "        name=None,\n",
        "    ):\n",
        "        if name:\n",
        "            super(NN, self).__init__(name=name)\n",
        "        else:\n",
        "            super(NN, self).__init__()\n",
        "        layer_list = []\n",
        "        for i, (hidden, kernel, stride) in enumerate(\n",
        "            zip(n_hidden, kernel_size, strides)\n",
        "        ):\n",
        "            layer_list.append(\n",
        "                Conv2D(\n",
        "                    hidden,\n",
        "                    kernel_size=kernel,\n",
        "                    strides=stride,\n",
        "                    activation=activation,\n",
        "                    padding='SAME',\n",
        "                    name=\"dense_{}_1\".format(i),\n",
        "                )\n",
        "            )\n",
        "        self.layer_list = layer_list\n",
        "        self.log_s_layer = Conv2D(\n",
        "            input_shape,\n",
        "            kernel_size=[3, 3],\n",
        "            strides=[1, 1],\n",
        "            padding='SAME',\n",
        "            kernel_initializer=\"zeros\",\n",
        "            activation=\"tanh\",\n",
        "            name=\"log_s\",\n",
        "        )\n",
        "        self.t_layer = Conv2D(\n",
        "            input_shape,\n",
        "            kernel_size=[3, 3],\n",
        "            strides=[1, 1],\n",
        "            padding='SAME',\n",
        "            kernel_initializer=\"zeros\",\n",
        "            name=\"t\",\n",
        "        )\n",
        "\n",
        "    def call(self, x):\n",
        "        y = x\n",
        "        for layer in self.layer_list:\n",
        "            y = layer(y)\n",
        "        log_s = self.log_s_layer(y)\n",
        "        t = self.t_layer(y)\n",
        "        return log_s, t\n",
        "\n",
        "\n",
        "def nn_test():\n",
        "    nn = NN(2, [256, 256])\n",
        "    x = tf.keras.Input([16, 16, 2])\n",
        "    log_s, t = nn(x)\n",
        "    # Non trainable params: -> Batch Normalization's params\n",
        "    tf.keras.Model(x, [log_s, t], name=\"nn_test\").summary()\n",
        "\n",
        "\n",
        "nn_test()"
      ],
      "execution_count": 6,
      "outputs": [
        {
          "output_type": "stream",
          "text": [
            "Model: \"nn_test\"\n",
            "_________________________________________________________________\n",
            "Layer (type)                 Output Shape              Param #   \n",
            "=================================================================\n",
            "input_1 (InputLayer)         [(None, 16, 16, 2)]       0         \n",
            "_________________________________________________________________\n",
            "nn (NN)                      ((None, 16, 16, 2), (None 79876     \n",
            "=================================================================\n",
            "Total params: 79,876\n",
            "Trainable params: 79,876\n",
            "Non-trainable params: 0\n",
            "_________________________________________________________________\n"
          ],
          "name": "stdout"
        }
      ]
    },
    {
      "cell_type": "code",
      "metadata": {
        "id": "_T-fC_RB1LNI",
        "colab": {
          "base_uri": "https://localhost:8080/"
        },
        "outputId": "cb42789c-21ab-434c-ff49-2ea0db6514ba"
      },
      "source": [
        "class RealNVP(tfb.Bijector):\n",
        "    def __init__(\n",
        "        self,\n",
        "        input_shape,\n",
        "        forward_min_event_ndims=3,\n",
        "        validate_args: bool = False,\n",
        "        name=\"real_nvp\",\n",
        "        n_hidden=[512, 512],\n",
        "        **kargs,\n",
        "    ):\n",
        "        \"\"\"\n",
        "        Args:\n",
        "            input_shape: \n",
        "                input_shape, \n",
        "                ex. [28, 28, 3] (image) [2] (x-y vector)\n",
        "            forward_min_event_ndims:\n",
        "                this bijector do \n",
        "                1. element-wize quantities => 0\n",
        "                2. vector-wize quantities => 1\n",
        "                3. matrix-wize quantities => 2\n",
        "                4. tensor-wize quantities => 3\n",
        "            n_hidden:\n",
        "                see. class NN\n",
        "            **kargs:\n",
        "                see. class NN\n",
        "                you can inuput NN's layers parameter here.\n",
        "        \"\"\"\n",
        "        super(RealNVP, self).__init__(\n",
        "            validate_args=validate_args,\n",
        "            forward_min_event_ndims=forward_min_event_ndims,\n",
        "            name=name,\n",
        "        )\n",
        "\n",
        "        assert input_shape[-1] % 2 == 0\n",
        "        self.input_shape = input_shape\n",
        "        nn_layer = NN(input_shape[-1] // 2, n_hidden)\n",
        "        nn_input_shape = input_shape.copy()\n",
        "        nn_input_shape[-1] = input_shape[-1] // 2\n",
        "        x = tf.keras.Input(nn_input_shape)\n",
        "        log_s, t = nn_layer(x)\n",
        "        self.nn = Model(x, [log_s, t], name=self.name + \"/nn\")\n",
        "\n",
        "    def _forward(self, x):\n",
        "        x_a, x_b = tf.split(x, 2, axis=-1)\n",
        "        y_b = x_b\n",
        "        log_s, t = self.nn(x_b)\n",
        "        s = tf.exp(log_s)\n",
        "        y_a = s * x_a + t\n",
        "        y = tf.concat([y_a, y_b], axis=-1)\n",
        "        return y\n",
        "\n",
        "    def _inverse(self, y):\n",
        "        y_a, y_b = tf.split(y, 2, axis=-1)\n",
        "        x_b = y_b\n",
        "        log_s, t = self.nn(y_b)\n",
        "        s = tf.exp(log_s)\n",
        "        x_a = (y_a - t) / s\n",
        "        x = tf.concat([x_a, x_b], axis=-1)\n",
        "        return x\n",
        "\n",
        "    def _forward_log_det_jacobian(self, x):\n",
        "        _, x_b = tf.split(x, 2, axis=-1)\n",
        "        log_s, t = self.nn(x_b)\n",
        "        return tf.reduce_sum(log_s)\n",
        "\n",
        "\n",
        "def realnvp_test():\n",
        "    realnvp = RealNVP(input_shape=[16, 16, 4], n_hidden=[256, 256])\n",
        "    x = tf.keras.Input([16, 16, 4])\n",
        "    y = realnvp.forward(x)\n",
        "    print(\"trainable_variables :\", len(realnvp.trainable_variables))\n",
        "\n",
        "    flow = tfd.TransformedDistribution(\n",
        "        event_shape=[16, 16, 4],\n",
        "        distribution=tfd.Normal(loc=0.0, scale=1.0),\n",
        "        bijector=realnvp,\n",
        "    )\n",
        "    x = flow.sample(64)\n",
        "    y = realnvp.inverse(x)\n",
        "    log_prob = flow.log_prob(y)\n",
        "    print(\n",
        "        x.shape,\n",
        "        y.shape,\n",
        "        log_prob.shape,\n",
        "    )\n",
        "\n",
        "\n",
        "realnvp_test()"
      ],
      "execution_count": 7,
      "outputs": [
        {
          "output_type": "stream",
          "text": [
            "trainable_variables : 8\n",
            "(64, 16, 16, 4) (64, 16, 16, 4) (64,)\n"
          ],
          "name": "stdout"
        }
      ]
    },
    {
      "cell_type": "code",
      "metadata": {
        "id": "tYKReBz91Q6F",
        "colab": {
          "base_uri": "https://localhost:8080/"
        },
        "outputId": "9040bc5b-b046-4c1e-e92f-5ff7d16af3a6"
      },
      "source": [
        "class RevPermute(tfb.Bijector):\n",
        "    def __init__(\n",
        "        self,\n",
        "        axis=[-1],\n",
        "        forward_min_event_ndims=0,\n",
        "        validate_args=False,\n",
        "        name=\"RevPermute\",\n",
        "    ):\n",
        "        super(RevPermute, self).__init__(\n",
        "            forward_min_event_ndims=forward_min_event_ndims,\n",
        "            validate_args=validate_args,\n",
        "            name=name,\n",
        "            is_constant_jacobian=True\n",
        "        )\n",
        "        self._axis = axis\n",
        "\n",
        "    @property\n",
        "    def axis(self):\n",
        "        return self._axis\n",
        "\n",
        "    def _forward(self, x):\n",
        "        return tf.reverse(x, self.axis)\n",
        "\n",
        "    def _inverse(self, y):\n",
        "        return tf.reverse(y, self.axis)\n",
        "\n",
        "    def _forward_log_det_jacobian(self, x):\n",
        "        return tf.constant(0.0, dtype=x.dtype)\n",
        "\n",
        "    def _inverse_log_det_jacobian(self, y):\n",
        "        return tf.constant(0.0, dtype=y.dtype)\n",
        "\n",
        "\n",
        "def test_revPermute():\n",
        "    revPermute = RevPermute()\n",
        "    x = tf.keras.Input([16, 16, 4])\n",
        "    y = revPermute.forward(x)\n",
        "    # tf.keras.Model(x, y).summary()\n",
        "\n",
        "    x = tf.random.normal([2, 16, 16, 4])\n",
        "    y = revPermute.forward(x)\n",
        "    z = revPermute.inverse(y)\n",
        "    flow = tfd.TransformedDistribution(distribution=target_dist, bijector=revPermute)\n",
        "    print(tf.reduce_mean(flow.log_prob(tf.random.normal([2, 16, 16, 3]))))\n",
        "    return tf.reduce_sum(z - x)\n",
        "\n",
        "\n",
        "test_revPermute()"
      ],
      "execution_count": 8,
      "outputs": [
        {
          "output_type": "stream",
          "text": [
            "tf.Tensor(-1.4131335, shape=(), dtype=float32)\n"
          ],
          "name": "stdout"
        },
        {
          "output_type": "execute_result",
          "data": {
            "text/plain": [
              "<tf.Tensor: shape=(), dtype=float32, numpy=0.0>"
            ]
          },
          "metadata": {
            "tags": []
          },
          "execution_count": 8
        }
      ]
    },
    {
      "cell_type": "code",
      "metadata": {
        "id": "-Tnn0LX31SVa",
        "colab": {
          "base_uri": "https://localhost:8080/"
        },
        "outputId": "ffef74e8-7d2a-4a14-c631-2bcff47c6e48"
      },
      "source": [
        "class Squeeze3D(tfb.Bijector):\n",
        "    def __init__(\n",
        "        self,\n",
        "        factor=2,\n",
        "        forward_min_event_ndims=0,\n",
        "        inverse_min_event_ndims=0,\n",
        "        validate_args=False,\n",
        "        name=\"Squeeze\",\n",
        "    ):\n",
        "        self._factor = factor\n",
        "        super(Squeeze3D, self).__init__(\n",
        "            forward_min_event_ndims=forward_min_event_ndims,\n",
        "            inverse_min_event_ndims=inverse_min_event_ndims,\n",
        "            name=name,\n",
        "            is_constant_jacobian=True\n",
        "        )\n",
        "\n",
        "    @property\n",
        "    def factor(self):\n",
        "        return self._factor\n",
        "\n",
        "    def _forward(self, x):\n",
        "        (H, W, C) = x.shape[1:]\n",
        "        batch_size = tf.shape(x)[0:1]\n",
        "        tmp_shape = tf.concat(\n",
        "            [\n",
        "                batch_size,\n",
        "                (H // self.factor, self.factor, W // self.factor, self.factor, C),\n",
        "            ],\n",
        "            axis=0,\n",
        "        )\n",
        "        output_shape = tf.concat(\n",
        "            [batch_size, (H // self.factor, W // self.factor, C * self.factor ** 2)],\n",
        "            axis=0,\n",
        "        )\n",
        "        y = tf.reshape(x, tmp_shape)\n",
        "        y = tf.transpose(y, [0, 1, 3, 5, 2, 4])\n",
        "        y = tf.reshape(y, output_shape)\n",
        "        return y\n",
        "\n",
        "    def _inverse(self, y):\n",
        "        (H, W, C) = y.shape[1:]\n",
        "        batch_size = tf.shape(y)[0:1]\n",
        "        tmp_shape = tf.concat(\n",
        "            [batch_size, (H, W, C // self.factor ** 2, self.factor, self.factor)], axis=0\n",
        "        )\n",
        "        output_shape = tf.concat(\n",
        "            [batch_size, (H * self.factor, W * self.factor, C // self.factor ** 2)], axis=0\n",
        "        )\n",
        "        x = tf.reshape(y, tmp_shape)\n",
        "        x = tf.transpose(x, [0, 1, 4, 2, 5, 3])\n",
        "        x = tf.reshape(x, output_shape)\n",
        "        return x\n",
        "\n",
        "    def _forward_log_det_jacobian(self, x):\n",
        "        return tf.constant(0.0, dtype=x.dtype)\n",
        "\n",
        "\n",
        "def test_squeeze3D():\n",
        "    factor = 2\n",
        "    x = tf.Variable([[[1, 2, 5, 6], [3, 4, 7, 8], [9, 10, 13, 14], [11, 12, 15, 16]]])\n",
        "    x = tf.expand_dims(x, axis=-1)\n",
        "    squeeze3d = Squeeze3D()\n",
        "    y = squeeze3d.forward(x)\n",
        "    z = squeeze3d.inverse(y)\n",
        "    print(tf.reduce_sum(x - z))\n",
        "    \n",
        "    flow = tfd.TransformedDistribution(\n",
        "        event_shape=[16, 16, 2],\n",
        "        distribution=tfd.Normal(loc=0., scale=1.),\n",
        "        bijector=squeeze3d\n",
        "    )\n",
        "    x = tf.random.normal([64, 16, 16, 2])\n",
        "    y = flow.bijector.forward(x)\n",
        "    log_prob = flow.log_prob(y)\n",
        "    print(x.shape, y.shape, log_prob.shape)\n",
        "    \n",
        "\n",
        "test_squeeze3D()"
      ],
      "execution_count": 9,
      "outputs": [
        {
          "output_type": "stream",
          "text": [
            "tf.Tensor(0, shape=(), dtype=int32)\n",
            "(64, 16, 16, 2) (64, 8, 8, 8) (64,)\n"
          ],
          "name": "stdout"
        }
      ]
    },
    {
      "cell_type": "code",
      "metadata": {
        "id": "cn1sdeIc1gS1",
        "colab": {
          "base_uri": "https://localhost:8080/"
        },
        "outputId": "fab77cb5-34e7-4348-a3e0-e9ce6f21d228"
      },
      "source": [
        "def gen_flow_chain(level=3):\n",
        "    flow_chain_list = []\n",
        "    for i in range(level):\n",
        "        flow_chain_list.append(Squeeze3D())\n",
        "        flow_chain_list.append(tfb.BatchNormalization())\n",
        "        flow_chain_list.append(RevPermute()),\n",
        "        flow_chain_list.append(RealNVP(input_shape=[16, 16, 4], n_hidden=[256, 256])),\n",
        "        flow_chain_list.append(tfb.Invert(Squeeze3D()))\n",
        "    return tfb.Chain(list(reversed(flow_chain_list)))  \n",
        "    \n",
        "flow_bijector = gen_flow_chain()\n",
        "\n",
        "flow = tfd.TransformedDistribution(\n",
        "    event_shape=[32, 32, 1],\n",
        "    distribution=tfd.Normal(loc=0.0, scale=1.0),\n",
        "    bijector=tfb.Invert(flow_bijector),\n",
        ")\n",
        "\n",
        "x = tf.random.normal([64, 32, 32, 1])\n",
        "log_prob = flow.log_prob(x)\n",
        "print(log_prob.shape, -tf.reduce_mean(log_prob))"
      ],
      "execution_count": 10,
      "outputs": [
        {
          "output_type": "stream",
          "text": [
            "(64,) tf.Tensor(1454.9984, shape=(), dtype=float32)\n"
          ],
          "name": "stdout"
        }
      ]
    },
    {
      "cell_type": "code",
      "metadata": {
        "id": "1PSzSt5G1l1X",
        "colab": {
          "base_uri": "https://localhost:8080/"
        },
        "outputId": "2db8056d-ca9d-4923-aa28-481de0076ae4"
      },
      "source": [
        "# ref: https://github.com/tensorflow/probability/blob/master/tensorflow_probability/python/bijectors/blockwise.py\n",
        "class Blockwise3D(tfb.Bijector):\n",
        "    def __init__(self, bijectors, block_sizes=None, validate_args=False, name=None):\n",
        "        if not name:\n",
        "            name = \"blockwise3D_of_\" + \"_and_\".join([b.name for b in bijectors])\n",
        "            name = name.replace(\"/\", \"\")\n",
        "        super(Blockwise3D, self).__init__(\n",
        "            # ???\n",
        "            forward_min_event_ndims=3,\n",
        "            validate_args=validate_args,\n",
        "            name=name,\n",
        "        )\n",
        "        self._bijectors = bijectors\n",
        "        self._block_sizes = block_sizes\n",
        "\n",
        "    @property\n",
        "    def bijectors(self):\n",
        "        return self._bijectors\n",
        "\n",
        "    @property\n",
        "    def block_sizes(self):\n",
        "        return self._block_sizes\n",
        "\n",
        "    def _forward(self, x):\n",
        "        split_x = (\n",
        "            tf.split(x, len(self.bijectors), axis=-1)\n",
        "            if self.block_sizes is None\n",
        "            else tf.split(x, self.block_sizes, axis=-1)\n",
        "        )\n",
        "        split_y = [b.forward(x_) for b, x_ in zip(self.bijectors, split_x)]\n",
        "        y = tf.concat(split_y, axis=-1)\n",
        "        return y\n",
        "\n",
        "    def _inverse(self, y):\n",
        "        split_y = (\n",
        "            tf.split(y, len(self.bijectors), axis=-1)\n",
        "            if self.block_sizes is None\n",
        "            else tf.split(y, self.block_sizes, axis=-1)\n",
        "        )\n",
        "        split_x = [b.inverse(y_) for b, y_ in zip(self.bijectors, split_y)]\n",
        "        x = tf.concat(split_x, axis=-1)\n",
        "        return x\n",
        "\n",
        "    def _forward_log_det_jacobian(self, x):\n",
        "        split_x = (\n",
        "            tf.split(x, len(self.bijectors), axis=-1)\n",
        "            if self.block_sizes is None\n",
        "            else tf.split(x, self.block_sizes, axis=-1)\n",
        "        )\n",
        "        fldjs = [\n",
        "            # ???\n",
        "            b.forward_log_det_jacobian(x_, event_ndims=3)\n",
        "            for b, x_ in zip(self.bijectors, split_x)\n",
        "        ]\n",
        "        return sum(fldjs)\n",
        "\n",
        "    def _inverse_log_det_jacobian(self, y):\n",
        "        split_y = (\n",
        "            tf.split(y, len(self.bijectors), axis=-1)\n",
        "            if self.block_sizes is None\n",
        "            else tf.split(y, self.block_sizes, axis=-1)\n",
        "        )\n",
        "        ildjs = [\n",
        "            b.inverse_log_det_jacobian(y_, event_ndims=3)\n",
        "            for b, y_ in zip(self.bijectors, split_y)\n",
        "        ]\n",
        "        return sum(ildjs)\n",
        "\n",
        "\n",
        "def test_blockwise3D():\n",
        "    blockwise3D = Blockwise3D(\n",
        "        bijectors=[\n",
        "            tfb.Identity(),\n",
        "            RealNVP(input_shape=[16, 16, 2], n_hidden=[256, 256]),\n",
        "        ]\n",
        "    )\n",
        "\n",
        "    x = tf.keras.Input([16, 16, 4])\n",
        "    y = blockwise3D.forward(x)\n",
        "    # tf.keras.Model(x, y).summary()\n",
        "\n",
        "    x = tf.random.normal([3, 16, 16, 4])\n",
        "    y = blockwise3D.forward(x)\n",
        "    z = blockwise3D.inverse(y)\n",
        "    return tf.reduce_sum(z - x)\n",
        "\n",
        "\n",
        "test_blockwise3D()"
      ],
      "execution_count": 11,
      "outputs": [
        {
          "output_type": "execute_result",
          "data": {
            "text/plain": [
              "<tf.Tensor: shape=(), dtype=float32, numpy=0.0>"
            ]
          },
          "metadata": {
            "tags": []
          },
          "execution_count": 11
        }
      ]
    },
    {
      "cell_type": "code",
      "metadata": {
        "id": "HN5O_KGm1rj5",
        "colab": {
          "base_uri": "https://localhost:8080/"
        },
        "outputId": "80cd5439-ca95-4cd1-9379-cb782daa17d9"
      },
      "source": [
        "def gen_flowSteps(\n",
        "    # for realnvp\n",
        "    input_shape: list,\n",
        "    n_hidden: list = [256, 256],\n",
        "    # for flowStep\n",
        "    k=2,\n",
        "    forward_min_event_ndims: int = 3,\n",
        "    validate_args: bool = False,\n",
        "    name: str = \"flow_step\",\n",
        "):\n",
        "    flow_step_list = []\n",
        "    for i in range(k):\n",
        "        flow_step_list.append(tfb.BatchNormalization(validate_args=validate_args))\n",
        "        flow_step_list.append(RevPermute(validate_args=validate_args)),\n",
        "        flow_step_list.append(\n",
        "            RealNVP(\n",
        "                input_shape=input_shape,\n",
        "                n_hidden=n_hidden,\n",
        "                validate_args=validate_args,\n",
        "                name=\"{}_{}/realnvp\".format(name, i),\n",
        "            )\n",
        "        )\n",
        "\n",
        "    flowSteps = tfb.Chain(\n",
        "        list(reversed(flow_step_list)), validate_args=validate_args, name=name\n",
        "    )\n",
        "    return flowSteps\n",
        "\n",
        "\n",
        "def test_gen_flowSteps():\n",
        "    flowSteps = gen_flowSteps(\n",
        "        k=2, input_shape=[16, 16, 4], forward_min_event_ndims=0, name=\"flowstep_0\"\n",
        "    )\n",
        "    x = tf.keras.Input([16, 16, 4])\n",
        "    y = flowSteps(x)\n",
        "    # tf.keras.Model(x, y).summary()\n",
        "\n",
        "    x = tf.random.normal([6, 16, 16, 4])\n",
        "    y = flowSteps.forward(x)\n",
        "    z = flowSteps.inverse(y)\n",
        "    return tf.reduce_sum(z - x)\n",
        "\n",
        "\n",
        "test_gen_flowSteps()"
      ],
      "execution_count": 12,
      "outputs": [
        {
          "output_type": "execute_result",
          "data": {
            "text/plain": [
              "<tf.Tensor: shape=(), dtype=float32, numpy=0.0>"
            ]
          },
          "metadata": {
            "tags": []
          },
          "execution_count": 12
        }
      ]
    },
    {
      "cell_type": "code",
      "metadata": {
        "id": "n4gLCdyf1yXm",
        "colab": {
          "base_uri": "https://localhost:8080/"
        },
        "outputId": "8b442c05-e6be-4343-abfb-83a98d620fe3"
      },
      "source": [
        "def gen_flow(input_shape, level=3, flow_step_args: dict = None):\n",
        "    def _gen_input_shapes(input_shape, level):\n",
        "        input_shape = input_shape\n",
        "        input_shapes = []\n",
        "        for i in range(level):\n",
        "            input_shape = [\n",
        "                input_shape[0] // 2,\n",
        "                input_shape[1] // 2,\n",
        "                input_shape[2] * 4 - i * 8,\n",
        "            ]\n",
        "            input_shapes.append(input_shape)\n",
        "        return input_shapes\n",
        "\n",
        "    input_shapes = _gen_input_shapes(input_shape, level)\n",
        "\n",
        "    def _add_flow(_input_shapes, flow_step_args):\n",
        "        flow_lists = []\n",
        "        flow_lists.append(\n",
        "            Squeeze3D(name=\"Squeeze_{}\".format(level - len(_input_shapes)))\n",
        "        )\n",
        "        flowSteps = gen_flowSteps(\n",
        "           k=2,\n",
        "           input_shape=_input_shapes[0],\n",
        "           name=\"Flowsteps_{}\".format(level - len(_input_shapes)),\n",
        "        )\n",
        "        flow_lists.append(flowSteps)\n",
        "        if len(_input_shapes) != 1:\n",
        "            flow_lists.append(\n",
        "                Blockwise3D(\n",
        "                    [\n",
        "                        tfb.Identity(),\n",
        "                        tfb.Chain(\n",
        "                            list(reversed(_add_flow(_input_shapes[1:], flow_step_args)))\n",
        "                        ),\n",
        "                    ],\n",
        "                    name=\"Blockwise3D_{}\".format(level - len(_input_shapes)),\n",
        "                )\n",
        "            )\n",
        "        flow_lists.append(\n",
        "            tfb.Invert(\n",
        "                Squeeze3D(name=\"Unsqueeze_{}\".format(level - len(_input_shapes)))\n",
        "            )\n",
        "        )\n",
        "        return flow_lists\n",
        "\n",
        "    return tfb.Chain(list(reversed(_add_flow(input_shapes, level))))\n",
        "\n",
        "\n",
        "def test_gen_flow():\n",
        "    flow = gen_flow([32, 32, 1])\n",
        "    print(len(flow.trainable_variables))\n",
        "    x = tf.keras.Input([32, 32, 1])\n",
        "    y = flow.forward(x)\n",
        "    # tf.keras.Model(x, y).summary()\n",
        "    x = tf.random.normal([3, 32, 32, 1])\n",
        "    y = flow.forward(x)\n",
        "    z = flow.inverse(y) \n",
        "    return tf.reduce_sum(z - x)\n",
        "\n",
        "test_gen_flow()"
      ],
      "execution_count": 13,
      "outputs": [
        {
          "output_type": "stream",
          "text": [
            "48\n"
          ],
          "name": "stdout"
        },
        {
          "output_type": "execute_result",
          "data": {
            "text/plain": [
              "<tf.Tensor: shape=(), dtype=float32, numpy=0.0>"
            ]
          },
          "metadata": {
            "tags": []
          },
          "execution_count": 13
        }
      ]
    },
    {
      "cell_type": "code",
      "metadata": {
        "id": "7HYSubHD118_",
        "colab": {
          "base_uri": "https://localhost:8080/"
        },
        "outputId": "5b023198-031d-40c8-ed2f-f0d5cd0178a1"
      },
      "source": [
        "flow_bijector = gen_flow([32, 32, 1])\n",
        "print(len(flow_bijector.trainable_variables))\n",
        "flow = tfd.TransformedDistribution(\n",
        "    event_shape =[32, 32, 1],\n",
        "    distribution=tfd.Normal(loc=0.0, scale=1.0),\n",
        "    bijector=flow_bijector\n",
        ")\n",
        "print('trainable_variables: ', len(flow.bijector.trainable_variables))"
      ],
      "execution_count": 14,
      "outputs": [
        {
          "output_type": "stream",
          "text": [
            "48\n",
            "trainable_variables:  48\n"
          ],
          "name": "stdout"
        }
      ]
    },
    {
      "cell_type": "code",
      "metadata": {
        "id": "28RkmeiH132h"
      },
      "source": [
        "@tf.function\n",
        "def loss():\n",
        "    return - tf.reduce_mean(flow.log_prob(targets['img']))\n",
        "\n",
        "\n",
        "optimizer = tf.optimizers.Adam(learning_rate=1e-4) \n",
        "# log = tf.summary.create_file_writer('checkpoints')\n",
        "avg_loss = tf.keras.metrics.Mean(name='loss', dtype=tf.float32)"
      ],
      "execution_count": 15,
      "outputs": []
    },
    {
      "cell_type": "code",
      "metadata": {
        "id": "tfjf2nki117N",
        "colab": {
          "base_uri": "https://localhost:8080/"
        },
        "outputId": "d6ca2c38-23b5-4de1-8d58-d83456d2c9fe"
      },
      "source": [
        "BATCH_SIZE=64\n",
        "train_dataset = train_dataset_raw.shuffle(SHUFFLE_BUFFER_SIZE).batch(BATCH_SIZE)\n",
        "for target in train_dataset.take(1):\n",
        "    targets = target\n",
        "print(targets['img'].shape)\n",
        "with tf.GradientTape() as tape:\n",
        "    log_prob_loss = loss()\n",
        "grads = tape.gradient(log_prob_loss, flow.trainable_variables)\n",
        "print(log_prob_loss)"
      ],
      "execution_count": 16,
      "outputs": [
        {
          "output_type": "stream",
          "text": [
            "(64, 32, 32, 1)\n",
            "WARNING:tensorflow:From /usr/local/lib/python3.6/dist-packages/tensorflow_probability/python/bijectors/batch_normalization.py:210: Layer.apply (from tensorflow.python.keras.engine.base_layer) is deprecated and will be removed in a future version.\n",
            "Instructions for updating:\n",
            "Please use `layer.__call__` method instead.\n",
            "tf.Tensor(802.5529, shape=(), dtype=float32)\n"
          ],
          "name": "stdout"
        }
      ]
    },
    {
      "cell_type": "code",
      "metadata": {
        "id": "JzLW8f5S2H2v",
        "colab": {
          "base_uri": "https://localhost:8080/"
        },
        "outputId": "6229788f-82fb-4266-b535-85839fdd520e"
      },
      "source": [
        "n_epochs = 50\n",
        "\n",
        "for epoch in range(n_epochs):\n",
        "    print()\n",
        "    for targets in train_dataset:\n",
        "        with tf.GradientTape() as tape:\n",
        "            log_prob_loss = loss()\n",
        "        grads = tape.gradient(log_prob_loss, flow.trainable_variables)\n",
        "        optimizer.apply_gradients(zip(grads, flow.trainable_variables))\n",
        "        avg_loss.update_state(log_prob_loss)\n",
        "        if tf.equal(optimizer.iterations % 1000, 0):\n",
        "            print(\"Step {} Loss {:.6f}\".format(optimizer.iterations, avg_loss.result()))\n",
        "        if tf.equal(optimizer.iterations % 100, 0):\n",
        "            # with log.as_default():\n",
        "            #     tf.summary.scalar(\"loss\", avg_loss.result(), step=optimizer.iterations)\n",
        "            #     avg_loss.reset_states()\n",
        "            avg_loss.reset_states()       "
      ],
      "execution_count": 17,
      "outputs": [
        {
          "output_type": "stream",
          "text": [
            "\n",
            "\n",
            "Step <tf.Variable 'Adam/iter:0' shape=() dtype=int64, numpy=1000> Loss -113337.429688\n",
            "\n",
            "Step <tf.Variable 'Adam/iter:0' shape=() dtype=int64, numpy=2000> Loss -114015.632812\n",
            "\n",
            "Step <tf.Variable 'Adam/iter:0' shape=() dtype=int64, numpy=3000> Loss -114205.093750\n",
            "\n",
            "Step <tf.Variable 'Adam/iter:0' shape=() dtype=int64, numpy=4000> Loss -114369.257812\n",
            "\n",
            "Step <tf.Variable 'Adam/iter:0' shape=() dtype=int64, numpy=5000> Loss -114493.460938\n",
            "\n",
            "Step <tf.Variable 'Adam/iter:0' shape=() dtype=int64, numpy=6000> Loss -114612.289062\n",
            "\n",
            "Step <tf.Variable 'Adam/iter:0' shape=() dtype=int64, numpy=7000> Loss -114852.937500\n",
            "\n",
            "Step <tf.Variable 'Adam/iter:0' shape=() dtype=int64, numpy=8000> Loss -114965.523438\n",
            "\n",
            "Step <tf.Variable 'Adam/iter:0' shape=() dtype=int64, numpy=9000> Loss -114915.796875\n",
            "\n",
            "Step <tf.Variable 'Adam/iter:0' shape=() dtype=int64, numpy=10000> Loss -114983.328125\n",
            "\n",
            "Step <tf.Variable 'Adam/iter:0' shape=() dtype=int64, numpy=11000> Loss -114994.343750\n",
            "\n",
            "Step <tf.Variable 'Adam/iter:0' shape=() dtype=int64, numpy=12000> Loss -115091.382812\n",
            "\n",
            "Step <tf.Variable 'Adam/iter:0' shape=() dtype=int64, numpy=13000> Loss -114883.140625\n",
            "\n",
            "Step <tf.Variable 'Adam/iter:0' shape=() dtype=int64, numpy=14000> Loss -115179.257812\n",
            "\n",
            "Step <tf.Variable 'Adam/iter:0' shape=() dtype=int64, numpy=15000> Loss -115034.070312\n",
            "\n",
            "\n",
            "Step <tf.Variable 'Adam/iter:0' shape=() dtype=int64, numpy=16000> Loss -115208.570312\n",
            "\n",
            "Step <tf.Variable 'Adam/iter:0' shape=() dtype=int64, numpy=17000> Loss -115089.117188\n",
            "\n",
            "Step <tf.Variable 'Adam/iter:0' shape=() dtype=int64, numpy=18000> Loss -115231.132812\n",
            "\n",
            "Step <tf.Variable 'Adam/iter:0' shape=() dtype=int64, numpy=19000> Loss -115112.796875\n",
            "\n",
            "Step <tf.Variable 'Adam/iter:0' shape=() dtype=int64, numpy=20000> Loss -115149.281250\n",
            "\n",
            "Step <tf.Variable 'Adam/iter:0' shape=() dtype=int64, numpy=21000> Loss -115175.546875\n",
            "\n",
            "Step <tf.Variable 'Adam/iter:0' shape=() dtype=int64, numpy=22000> Loss -115364.921875\n",
            "\n",
            "Step <tf.Variable 'Adam/iter:0' shape=() dtype=int64, numpy=23000> Loss -115401.593750\n",
            "\n",
            "Step <tf.Variable 'Adam/iter:0' shape=() dtype=int64, numpy=24000> Loss -115424.421875\n",
            "\n",
            "Step <tf.Variable 'Adam/iter:0' shape=() dtype=int64, numpy=25000> Loss -115443.929688\n",
            "\n",
            "Step <tf.Variable 'Adam/iter:0' shape=() dtype=int64, numpy=26000> Loss -115459.539062\n",
            "\n",
            "Step <tf.Variable 'Adam/iter:0' shape=() dtype=int64, numpy=27000> Loss -115473.398438\n",
            "\n",
            "Step <tf.Variable 'Adam/iter:0' shape=() dtype=int64, numpy=28000> Loss -115486.109375\n",
            "\n",
            "Step <tf.Variable 'Adam/iter:0' shape=() dtype=int64, numpy=29000> Loss -115497.093750\n",
            "\n",
            "Step <tf.Variable 'Adam/iter:0' shape=() dtype=int64, numpy=30000> Loss -115506.687500\n",
            "\n",
            "\n",
            "Step <tf.Variable 'Adam/iter:0' shape=() dtype=int64, numpy=31000> Loss -115513.937500\n",
            "\n",
            "Step <tf.Variable 'Adam/iter:0' shape=() dtype=int64, numpy=32000> Loss -115522.601562\n",
            "\n",
            "Step <tf.Variable 'Adam/iter:0' shape=() dtype=int64, numpy=33000> Loss -115531.453125\n",
            "\n",
            "Step <tf.Variable 'Adam/iter:0' shape=() dtype=int64, numpy=34000> Loss -115536.398438\n",
            "\n",
            "Step <tf.Variable 'Adam/iter:0' shape=() dtype=int64, numpy=35000> Loss -115546.328125\n",
            "\n",
            "Step <tf.Variable 'Adam/iter:0' shape=() dtype=int64, numpy=36000> Loss -115548.460938\n",
            "\n",
            "Step <tf.Variable 'Adam/iter:0' shape=() dtype=int64, numpy=37000> Loss -115557.289062\n",
            "\n",
            "Step <tf.Variable 'Adam/iter:0' shape=() dtype=int64, numpy=38000> Loss -115561.226562\n",
            "\n",
            "Step <tf.Variable 'Adam/iter:0' shape=() dtype=int64, numpy=39000> Loss -115567.976562\n",
            "\n",
            "Step <tf.Variable 'Adam/iter:0' shape=() dtype=int64, numpy=40000> Loss -115572.312500\n",
            "\n",
            "Step <tf.Variable 'Adam/iter:0' shape=() dtype=int64, numpy=41000> Loss -115577.460938\n",
            "\n",
            "Step <tf.Variable 'Adam/iter:0' shape=() dtype=int64, numpy=42000> Loss -115581.101562\n",
            "\n",
            "Step <tf.Variable 'Adam/iter:0' shape=() dtype=int64, numpy=43000> Loss -115582.757812\n",
            "\n",
            "Step <tf.Variable 'Adam/iter:0' shape=() dtype=int64, numpy=44000> Loss -115587.750000\n",
            "\n",
            "Step <tf.Variable 'Adam/iter:0' shape=() dtype=int64, numpy=45000> Loss -115589.601562\n",
            "\n",
            "\n",
            "Step <tf.Variable 'Adam/iter:0' shape=() dtype=int64, numpy=46000> Loss -115596.250000\n"
          ],
          "name": "stdout"
        }
      ]
    },
    {
      "cell_type": "code",
      "metadata": {
        "id": "NLY2F-u_2KTr"
      },
      "source": [
        "test_dataset = test_dataset_raw.shuffle(SHUFFLE_BUFFER_SIZE).batch(BATCH_SIZE)"
      ],
      "execution_count": 27,
      "outputs": []
    },
    {
      "cell_type": "code",
      "metadata": {
        "colab": {
          "base_uri": "https://localhost:8080/",
          "height": 1000
        },
        "id": "R9tJhWREox3r",
        "outputId": "1bcff77a-1c00-4cbb-9069-7c3924b3bebe"
      },
      "source": [
        "testNumber = 4\n",
        "number_label_list = []\n",
        "number_image_list = []\n",
        "for image_features in test_dataset.take(1):\n",
        "    label_list = image_features['label'].numpy()\n",
        "    image_list = image_features[\"img\"]\n",
        "    print (image_features['label'])\n",
        "    i = 0\n",
        "    print(len(label_list))\n",
        "    while i < len(label_list):\n",
        "\n",
        "      if label_list[i] == testNumber:\n",
        " \n",
        "        number_label_list.append(i)\n",
        "        number_image_list.append(image_list[i])\n",
        "\n",
        "        fig, ax = plt.subplots()\n",
        "        plt.imshow(tf.squeeze(image_list[i], axis=-1), cmap='gray_r')\n",
        "\n",
        "      i = i+1\n",
        "trg = number_image_list\n",
        "inv = flow.bijector.inverse(trg)\n",
        "re_trg = flow.bijector.forward(inv)\n",
        "re_inv = np.array([(inv[0] + inv[0]) / 2.0])\n",
        "print(re_inv.shape)\n",
        "re_re_trg = flow.bijector.forward(re_inv)"
      ],
      "execution_count": 28,
      "outputs": [
        {
          "output_type": "stream",
          "text": [
            "tf.Tensor(\n",
            "[2 7 1 2 9 0 6 0 5 3 6 2 4 1 3 3 4 0 0 1 5 0 4 3 5 9 7 8 2 6 0 8 1 6 0 1 5\n",
            " 0 2 1 7 6 2 0 0 0 0 5 7 1 0 9 0 4 9 1 3 6 0 9 5 7 0 8], shape=(64,), dtype=uint8)\n",
            "64\n",
            "(1, 32, 32, 1)\n"
          ],
          "name": "stdout"
        },
        {
          "output_type": "display_data",
          "data": {
            "image/png": "[encoded data removed]",
            "text/plain": [
              "<Figure size 432x288 with 1 Axes>"
            ]
          },
          "metadata": {
            "tags": [],
            "needs_background": "light"
          }
        },
        {
          "output_type": "display_data",
          "data": {
            "image/png": "[encoded data removed]",
            "text/plain": [
              "<Figure size 432x288 with 1 Axes>"
            ]
          },
          "metadata": {
            "tags": [],
            "needs_background": "light"
          }
        },
        {
          "output_type": "display_data",
          "data": {
            "image/png": "[encoded data removed]",
            "text/plain": [
              "<Figure size 432x288 with 1 Axes>"
            ]
          },
          "metadata": {
            "tags": [],
            "needs_background": "light"
          }
        },
        {
          "output_type": "display_data",
          "data": {
            "image/png": "[encoded data removed]",
            "text/plain": [
              "<Figure size 432x288 with 1 Axes>"
            ]
          },
          "metadata": {
            "tags": [],
            "needs_background": "light"
          }
        }
      ]
    },
    {
      "cell_type": "code",
      "metadata": {
        "colab": {
          "base_uri": "https://localhost:8080/",
          "height": 300
        },
        "id": "tlfJtl0KtSmV",
        "outputId": "3c53d482-a1d2-45cc-c5bd-bd71d8949ebf"
      },
      "source": [
        "z_1= np.random.normal(0, 1, (32, 32))\n",
        "z_2 = np.random.normal(0, 1, (32, 32))\n",
        "expz_1 = tf.expand_dims(z_1, axis=2)\n",
        "expz_2 = tf.expand_dims(z_2, axis=2)\n",
        "expz_1 = tf.cast(expz_1,dtype = tf.float32)\n",
        "expz_2 = tf.cast(expz_2,dtype = tf.float32)\n",
        "\n",
        "z = [expz_1, expz_2]\n",
        "plt.imshow(z_1, cmap='gray_r')\n",
        "\n",
        "plt.imshow(z_2, cmap='gray_r')\n",
        "\n",
        "print(z_1.shape)\n",
        "print(number_image_list[0].shape)\n",
        "\n"
      ],
      "execution_count": 20,
      "outputs": [
        {
          "output_type": "stream",
          "text": [
            "(32, 32)\n",
            "(32, 32, 1)\n"
          ],
          "name": "stdout"
        },
        {
          "output_type": "display_data",
          "data": {
            "image/png": "[encoded data removed]",
            "text/plain": [
              "<Figure size 432x288 with 1 Axes>"
            ]
          },
          "metadata": {
            "tags": [],
            "needs_background": "light"
          }
        }
      ]
    },
    {
      "cell_type": "code",
      "metadata": {
        "id": "_T7hzEc5FPEo"
      },
      "source": [
        "def plot_generation_result(data):\n",
        "    fig = plt.figure(figsize=(8, 8))\n",
        "    \n",
        "    trg = data\n",
        "    inv = flow.bijector.inverse(trg)\n",
        "    re_trg = flow.bijector.forward(inv)\n",
        "\n",
        "    print('log probability: ', tf.reduce_mean(tfd.Normal(0., 1.).log_prob(inv)).numpy())\n",
        "    print(\"inv mean: \", tf.reduce_mean(inv).numpy(), \" std: \", tf.math.reduce_std(inv).numpy())\n",
        "    print(\"re:trg mean: \", tf.reduce_mean(re_trg).numpy(), \" std: \", tf.math.reduce_std(re_trg).numpy())\n",
        "\n",
        "    re_inv = np.array([(inv[0] + inv[1]) / 2.0])\n",
        "    print(re_inv.shape)\n",
        "    re_re_trg = flow.bijector.forward(re_inv)\n",
        "\n",
        "    ax = fig.add_subplot(2, 3, 1)\n",
        "    ax.imshow(tf.squeeze(trg[0], axis=-1), aspect=\"auto\", cmap='gray_r')\n",
        "\n",
        "    ax = fig.add_subplot(2, 3, 4)\n",
        "    ax.imshow(tf.squeeze(re_trg[0], axis=-1), aspect=\"auto\", cmap='gray_r')\n",
        "\n",
        "    ax = fig.add_subplot(2, 3, 2)\n",
        "    ax.imshow(tf.squeeze(trg[1], axis=-1), aspect=\"auto\", cmap='gray_r')\n",
        "\n",
        "    ax = fig.add_subplot(2, 3, 5)\n",
        "    ax.imshow(tf.squeeze(re_trg[1], axis=-1), aspect=\"auto\", cmap='gray_r')\n",
        "\n",
        "    ax = fig.add_subplot(2, 3, 3)\n",
        "    ax.imshow(tf.squeeze(re_inv[0], axis=-1), aspect=\"auto\", cmap='gray_r')\n",
        "\n",
        "    ax = fig.add_subplot(2, 3, 6)\n",
        "    ax.imshow(tf.squeeze(re_re_trg[0], axis=-1), aspect=\"auto\", cmap='gray_r')"
      ],
      "execution_count": 21,
      "outputs": []
    },
    {
      "cell_type": "code",
      "metadata": {
        "colab": {
          "base_uri": "https://localhost:8080/",
          "height": 552
        },
        "id": "c_tFcfCEGJk5",
        "outputId": "e297f25a-20bd-4d56-a4c0-5e9e5cacef02"
      },
      "source": [
        "plot_generation_result(number_image_list)"
      ],
      "execution_count": 29,
      "outputs": [
        {
          "output_type": "stream",
          "text": [
            "log probability:  -2.3826025\n",
            "inv mean:  -1.09896064e-07  std:  1.7109436\n",
            "re:trg mean:  -0.8178596  std:  0.5257823\n",
            "(1, 32, 32, 1)\n"
          ],
          "name": "stdout"
        },
        {
          "output_type": "display_data",
          "data": {
            "image/png": "[encoded data removed]",
            "text/plain": [
              "<Figure size 576x576 with 6 Axes>"
            ]
          },
          "metadata": {
            "tags": [],
            "needs_background": "light"
          }
        }
      ]
    },
    {
      "cell_type": "code",
      "metadata": {
        "colab": {
          "base_uri": "https://localhost:8080/",
          "height": 552
        },
        "id": "_AV6J2FNGSGy",
        "outputId": "40cb221f-2d57-4398-aa8e-6c08f6ece56d"
      },
      "source": [
        "plot_generation_result(z)"
      ],
      "execution_count": 30,
      "outputs": [
        {
          "output_type": "stream",
          "text": [
            "log probability:  -2.383402\n",
            "inv mean:  -1.0523945e-07  std:  1.7114108\n",
            "re:trg mean:  -0.0016124956  std:  1.0173244\n",
            "(1, 32, 32, 1)\n"
          ],
          "name": "stdout"
        },
        {
          "output_type": "display_data",
          "data": {
            "image/png": "[encoded data removed]",
            "text/plain": [
              "<Figure size 576x576 with 6 Axes>"
            ]
          },
          "metadata": {
            "tags": [],
            "needs_background": "light"
          }
        }
      ]
    },
    {
      "cell_type": "code",
      "metadata": {
        "id": "qtZx4-Gl2UQr"
      },
      "source": [
        "import numpy\n",
        "from numpy import cov\n",
        "from numpy import trace\n",
        "from numpy import iscomplexobj\n",
        "from numpy import asarray\n",
        "from numpy.random import shuffle\n",
        "from scipy.linalg import sqrtm\n",
        "from tensorflow.keras.applications.inception_v3 import InceptionV3\n",
        "from tensorflow.keras.applications.inception_v3 import preprocess_input\n",
        "from tensorflow.keras.datasets.mnist import load_data\n",
        "from skimage.transform import resize\n",
        "from tensorflow.keras.datasets import cifar10\n",
        "from tensorflow.keras.datasets import mnist\n",
        "import numpy as np\n",
        "import matplotlib.pyplot as plt"
      ],
      "execution_count": 31,
      "outputs": []
    },
    {
      "cell_type": "code",
      "metadata": {
        "id": "F5At8AhJG1mN"
      },
      "source": [
        "def scale_images(images, new_shape):\n",
        "\timages_list = list()\n",
        "\tfor image in images:\n",
        "\t\t# resize with nearest neighbor interpolation\n",
        "\t\tnew_image = resize(image, new_shape, 0)\n",
        "\t\t# store\n",
        "\t\timages_list.append(new_image)\n",
        "\treturn asarray(images_list)\n",
        " \n",
        "# calculate frechet inception distance\n",
        "def calculate_fid(model, images1, images2):\n",
        "\t# calculate activations\n",
        "\tact1 = model.predict(images1)\n",
        "\tact2 = model.predict(images2)\n",
        "\t# calculate mean and covariance statistics\n",
        "\tmu1, sigma1 = act1.mean(axis=0), cov(act1, rowvar=False)\n",
        "\tmu2, sigma2 = act2.mean(axis=0), cov(act2, rowvar=False)\n",
        "\t# calculate sum squared difference between means\n",
        "\tssdiff = numpy.sum((mu1 - mu2)**2.0)\n",
        "\t# calculate sqrt of product between cov\n",
        "\tcovmean = sqrtm(sigma1.dot(sigma2))\n",
        "\t# check and correct imaginary numbers from sqrt\n",
        "\tif iscomplexobj(covmean):\n",
        "\t\tcovmean = covmean.real\n",
        "\t# calculate score\n",
        "\tfid = ssdiff + trace(sigma1 + sigma2 - 2.0 * covmean)\n",
        "\treturn fid\n",
        " \n",
        "# prepare the inception v3 model\n",
        "model = InceptionV3(include_top=False, pooling='avg', input_shape=(299,299,3))\n"
      ],
      "execution_count": 25,
      "outputs": []
    },
    {
      "cell_type": "code",
      "metadata": {
        "colab": {
          "base_uri": "https://localhost:8080/",
          "height": 900
        },
        "id": "hrIe9o2NXQoC",
        "outputId": "25dce9f8-6643-4194-9ea2-11231e0cf25e"
      },
      "source": [
        "number_of_images_ground_truth=2\n",
        "number_of_images_results_of_some_model=1\n",
        "\n",
        "test_images1 = np.array([img.numpy() for img in number_image_list])\n",
        "test_images1 = test_images1[:number_of_images_ground_truth].reshape((number_of_images_ground_truth,32,32))\n",
        "ground_truth = test_images1\n",
        "test_images2 = re_re_trg\n",
        "test_images2 = np.array([img.numpy() for img in re_re_trg])\n",
        "test_images2 = test_images2[:number_of_images_results_of_some_model].reshape((number_of_images_results_of_some_model,32,32))\n",
        "\n",
        "print(type(test_images1))\n",
        "print(test_images1.shape)\n",
        "print(type(test_images2))\n",
        "print(test_images2.shape)\n",
        "\n",
        "print(\"Ground thruth images\")\n",
        "for i in range(number_of_images_ground_truth):\n",
        "    img = test_images1[i].reshape((32,32))\n",
        "    plt.imshow(img, cmap=\"Greys\")\n",
        "    plt.show()\n",
        "\n",
        "print(\"Images from Real NVP\")\n",
        "\n",
        "for i in range(number_of_images_results_of_some_model):\n",
        "    img = test_images2[i].reshape((32,32))\n",
        "    plt.imshow(img, cmap=\"Greys\")\n",
        "    plt.show()\n",
        "\n",
        "print('Loaded images ground truth', test_images1.shape, 'images from Real NVP',test_images2.shape)\n",
        "# convert integer to floating point values\n",
        "test_images1 = test_images1.astype('float32')\n",
        "test_images2 = test_images2.astype('float32')\n",
        "# resize images\n",
        "test_images1 = scale_images(test_images1, (299,299,3))\n",
        "test_images2 = scale_images(test_images2, (299,299,3))\n",
        "#print('Scaled', images1.shape, images2.shape)\n",
        "# pre-process images\n",
        "test_images1 = preprocess_input(test_images1)\n",
        "test_images2 = preprocess_input(test_images2)\n",
        "# calculate fid\n",
        "fid = calculate_fid(model, test_images1, test_images2)\n",
        "print('FID: %.3f' % fid)\n"
      ],
      "execution_count": 72,
      "outputs": [
        {
          "output_type": "stream",
          "text": [
            "<class 'numpy.ndarray'>\n",
            "(2, 32, 32)\n",
            "<class 'numpy.ndarray'>\n",
            "(1, 32, 32)\n",
            "Ground thruth images\n"
          ],
          "name": "stdout"
        },
        {
          "output_type": "display_data",
          "data": {
            "image/png": "[encoded data removed]",
            "text/plain": [
              "<Figure size 432x288 with 1 Axes>"
            ]
          },
          "metadata": {
            "tags": [],
            "needs_background": "light"
          }
        },
        {
          "output_type": "display_data",
          "data": {
            "image/png": "[encoded data removed]",
            "text/plain": [
              "<Figure size 432x288 with 1 Axes>"
            ]
          },
          "metadata": {
            "tags": [],
            "needs_background": "light"
          }
        },
        {
          "output_type": "stream",
          "text": [
            "Images from Real NVP\n"
          ],
          "name": "stdout"
        },
        {
          "output_type": "display_data",
          "data": {
            "image/png": "[encoded data removed]",
            "text/plain": [
              "<Figure size 432x288 with 1 Axes>"
            ]
          },
          "metadata": {
            "tags": [],
            "needs_background": "light"
          }
        },
        {
          "output_type": "stream",
          "text": [
            "Loaded images ground truth (2, 32, 32) images from Real NVP (1, 32, 32)\n",
            "FID: 254.270\n"
          ],
          "name": "stdout"
        }
      ]
    },
    {
      "cell_type": "code",
      "metadata": {
        "colab": {
          "base_uri": "https://localhost:8080/"
        },
        "id": "Ex7BiwWX6Dt8",
        "outputId": "498c62ba-644c-43e5-e592-6758b5bb5848"
      },
      "source": [
        "print (type(ground_truth))\n",
        "numpy.save('ground_truth', ground_truth, allow_pickle=True, fix_imports=True)\n"
      ],
      "execution_count": 71,
      "outputs": [
        {
          "output_type": "stream",
          "text": [
            "<class 'numpy.ndarray'>\n"
          ],
          "name": "stdout"
        }
      ]
    },
    {
      "cell_type": "markdown",
      "metadata": {
        "id": "0WcqcQvgCimi"
      },
      "source": [
        "# New Section"
      ]
    },
    {
      "cell_type": "code",
      "metadata": {
        "id": "wRJBDXApBOnS"
      },
      "source": [
        "data_1 = numpy.load('/content/ground_truth.npy', mmap_mode=None, allow_pickle=False, fix_imports=True, encoding='ASCII')"
      ],
      "execution_count": 69,
      "outputs": []
    },
    {
      "cell_type": "code",
      "metadata": {
        "colab": {
          "base_uri": "https://localhost:8080/"
        },
        "id": "H2Np0LOQByGe",
        "outputId": "e45ae809-79ba-496b-9abe-8eb50b38d509"
      },
      "source": [
        "print(type(data_1))\n",
        "print (data_1.shape)\n",
        "print()"
      ],
      "execution_count": 70,
      "outputs": [
        {
          "output_type": "stream",
          "text": [
            "<class 'numpy.ndarray'>\n",
            "(2, 32, 32)\n",
            "\n"
          ],
          "name": "stdout"
        }
      ]
    }
  ]
}